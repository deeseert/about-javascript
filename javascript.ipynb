{
 "cells": [
  {
   "cell_type": "markdown",
   "metadata": {},
   "source": [
    "# General"
   ]
  },
  {
   "cell_type": "markdown",
   "metadata": {},
   "source": [
    "## JSON vs object literal"
   ]
  },
  {
   "cell_type": "markdown",
   "metadata": {},
   "source": [
    "JSON is a data format:\n",
    "- it doesn't allow comments\n",
    "- it doesn't allow expressions or any type of flow control\n",
    "- it only support double quotes for strings\n",
    "- keys are strings and MUST be wrapped in double quotes"
   ]
  },
  {
   "cell_type": "code",
   "execution_count": 21,
   "metadata": {},
   "outputs": [
    {
     "data": {
      "text/plain": [
       "[ { name: 'Mickey', surname: 'Mouse', age: 90 },\n",
       "  { name: 'Donald', surname: 'Duck', age: 84 } ]"
      ]
     },
     "execution_count": 21,
     "metadata": {},
     "output_type": "execute_result"
    }
   ],
   "source": [
    "[\n",
    "  {\n",
    "    \"name\": \"Mickey\",\n",
    "    \"surname\": \"Mouse\",\n",
    "    \"age\": 90\n",
    "  },\n",
    "  {\n",
    "    \"name\": \"Donald\",\n",
    "    \"surname\": \"Duck\",\n",
    "    \"age\": 84\n",
    "  }\n",
    "]"
   ]
  },
  {
   "cell_type": "markdown",
   "metadata": {},
   "source": [
    "Object literal is a part of the JS language:\n",
    "\n",
    "- it allows expressions and libraries\n",
    "- it allows comments\n",
    "- it supports control flow\n",
    "- it supports single quotes for strings\n",
    "- it doesn't require quotes in the keys unless they include special chars"
   ]
  },
  {
   "cell_type": "code",
   "execution_count": 139,
   "metadata": {},
   "outputs": [
    {
     "data": {
      "text/plain": [
       "[ { name: 'Mickey', surname: 'Mouse', age: 90 },\n",
       "  { name: 'Donald', surname: 'Duck', age: 84 } ]"
      ]
     },
     "execution_count": 139,
     "metadata": {},
     "output_type": "execute_result"
    }
   ],
   "source": [
    "const mickeyAge = 90; // variables are valid here\n",
    "\n",
    "module.exports = [ // list of Disney characters\n",
    "  {\n",
    "    name: 'Mickey',\n",
    "    surname: 'Mouse',\n",
    "    age: mickeyAge\n",
    "  },\n",
    "  {\n",
    "    name: 'Donald',\n",
    "    surname: 'Duck',\n",
    "    age: mickeyAge - 6 // expressions are valid here\n",
    "  }\n",
    "];"
   ]
  },
  {
   "cell_type": "markdown",
   "metadata": {},
   "source": [
    "## Strict Mode\n",
    "\n",
    "Strict mode is automatically enforced in ES6+, so there is no need to specify it if you are writing ES6 code.\n",
    "\n",
    "Node.js adopted **implicit strict mode** in version **6.4.0** so if you write backend code for any version greater than that, you should omit the **'use strict';** literal expression.\n",
    "\n",
    "Also, **Babel** automatically adds 'use strict'; when transpiling to ES5, so if you are writing frontend code and use Babel you can omit it as well."
   ]
  },
  {
   "cell_type": "markdown",
   "metadata": {},
   "source": [
    "# ES2015+"
   ]
  },
  {
   "cell_type": "markdown",
   "metadata": {},
   "source": [
    "## const/let vs var\n",
    "\n",
    "- `const` and `let` are block scoped, so their behaviour is more predictable\n",
    "- `var` is only kept for backwards compatibility\n",
    "\n",
    "It is considered best practice to never alter the contents of a variable, so you should only need `let` in very rare circumstances."
   ]
  },
  {
   "cell_type": "markdown",
   "metadata": {},
   "source": [
    "### const doesn't mean immutability"
   ]
  },
  {
   "cell_type": "code",
   "execution_count": 23,
   "metadata": {},
   "outputs": [
    {
     "data": {
      "text/plain": [
       "{ a: 3 }"
      ]
     },
     "execution_count": 23,
     "metadata": {},
     "output_type": "execute_result"
    }
   ],
   "source": [
    "const obj = {};\n",
    "\n",
    "obj.a = 3;\n",
    "\n",
    "obj;"
   ]
  },
  {
   "cell_type": "code",
   "execution_count": 24,
   "metadata": {},
   "outputs": [
    {
     "data": {
      "text/plain": [
       "[ 'something' ]"
      ]
     },
     "execution_count": 24,
     "metadata": {},
     "output_type": "execute_result"
    }
   ],
   "source": [
    "const arr = [];\n",
    "\n",
    "arr.push('something');\n",
    "\n",
    "arr;"
   ]
  },
  {
   "cell_type": "markdown",
   "metadata": {},
   "source": [
    "however, the common way of altering the content of an object or array is by using functions that return new objects/arrays with the altered values:"
   ]
  },
  {
   "cell_type": "code",
   "execution_count": 52,
   "metadata": {},
   "outputs": [
    {
     "name": "stdout",
     "output_type": "stream",
     "text": [
      "obj1 { name: 'Albert', surname: 'Einstein' }\n",
      "obj2 { name: 'Albert', surname: 'Of Sweden' }\n"
     ]
    }
   ],
   "source": [
    "const obj1 = { name: 'Albert', surname: 'Einstein' };\n",
    "const obj2 = Object.assign({}, obj1, { surname: 'Of Sweden' });\n",
    "\n",
    "console.log('obj1', obj1); // old version is still intact\n",
    "console.log('obj2', obj2);"
   ]
  },
  {
   "cell_type": "code",
   "execution_count": 56,
   "metadata": {},
   "outputs": [
    {
     "name": "stdout",
     "output_type": "stream",
     "text": [
      "arr1 [ 1, 2, 3 ]\n",
      "arr2 [ 1, 2, 3, 4, 5, 6 ]\n"
     ]
    }
   ],
   "source": [
    "const arr1 = [1, 2, 3];\n",
    "const arr2 = arr1.concat([4, 5, 6]);\n",
    "\n",
    "console.log('arr1', arr1);\n",
    "console.log('arr2', arr2);"
   ]
  },
  {
   "cell_type": "markdown",
   "metadata": {},
   "source": [
    "### const prevents weird errors due to hoisting"
   ]
  },
  {
   "cell_type": "code",
   "execution_count": 5,
   "metadata": {},
   "outputs": [
    {
     "name": "stdout",
     "output_type": "stream",
     "text": [
      "undefined\n"
     ]
    }
   ],
   "source": [
    "function failSilently() {\n",
    "  console.log(x); // undefined\n",
    "  var x = 'test';\n",
    "}\n",
    "\n",
    "failSilently();"
   ]
  },
  {
   "cell_type": "code",
   "execution_count": 6,
   "metadata": {},
   "outputs": [
    {
     "ename": "ReferenceError",
     "evalue": "x is not defined",
     "execution_count": 6,
     "output_type": "error",
     "traceback": [
      "evalmachine.<anonymous>:2",
      "  console.log(x); // ReferenceError",
      "              ^",
      "",
      "ReferenceError: x is not defined",
      "    at failLoudly (evalmachine.<anonymous>:2:15)",
      "    at evalmachine.<anonymous>:6:1",
      "    at ContextifyScript.Script.runInThisContext (vm.js:50:33)",
      "    at Object.runInThisContext (vm.js:139:38)",
      "    at run ([eval]:1002:15)",
      "    at onRunRequest ([eval]:829:18)",
      "    at onMessage ([eval]:789:13)",
      "    at emitTwo (events.js:126:13)",
      "    at process.emit (events.js:214:7)",
      "    at emit (internal/child_process.js:772:12)"
     ]
    }
   ],
   "source": [
    "function failLoudly() {\n",
    "  console.log(x); // ReferenceError\n",
    "  const x = 'test';\n",
    "}\n",
    "\n",
    "failLoudly();"
   ]
  },
  {
   "cell_type": "markdown",
   "metadata": {},
   "source": [
    "### Initialisation and const\n",
    "\n",
    "- Use the || or ?: operators to initialize const variables that need to be calculated based on some condition\n",
    "- Create a function if the condition is too complex (too many branches)"
   ]
  },
  {
   "cell_type": "code",
   "execution_count": 29,
   "metadata": {},
   "outputs": [
    {
     "data": {
      "text/plain": [
       "0"
      ]
     },
     "execution_count": 29,
     "metadata": {},
     "output_type": "execute_result"
    }
   ],
   "source": [
    "// please DON'T do this\n",
    "\n",
    "const serialNumber = 10;\n",
    "\n",
    "let handbookChapter;\n",
    "\n",
    "if (serialNumber > 100) {\n",
    "    if (serialNumber % 2 === 0) {\n",
    "        handbookChapter = 5;\n",
    "    } else {\n",
    "        handbookChapter = 7;\n",
    "    }\n",
    "} else {\n",
    "    handbookChapter = 0;\n",
    "}"
   ]
  },
  {
   "cell_type": "code",
   "execution_count": 24,
   "metadata": {},
   "outputs": [],
   "source": [
    "// much better\n",
    "\n",
    "const serialNumber = 0;\n",
    "\n",
    "const handbookChapter_example1 = serialNumber || 3; // provides a default value of 3 for x\n",
    "\n",
    "const handbookChapter_example2 = (serialNumber < 10) ? 1 : 2; // sets y depending on the result of an expression\n",
    "\n",
    "function getChapter(serial) { // return a value depending on complex rules\n",
    "    if (serial > 100) {\n",
    "        return serial % 2 === 0 ? 5 : 7;\n",
    "    }\n",
    "    \n",
    "    return 0;\n",
    "}\n",
    "\n",
    "const handbookChapter_example3 = getChapter(serialNumber);"
   ]
  },
  {
   "cell_type": "markdown",
   "metadata": {},
   "source": [
    "also:"
   ]
  },
  {
   "cell_type": "code",
   "execution_count": 31,
   "metadata": {},
   "outputs": [],
   "source": [
    "// please DON'T do this\n",
    "\n",
    "function factoryMethod() {\n",
    "    const x = {}\n",
    "    x.a = 23;\n",
    "    x.b = 42;\n",
    "    \n",
    "    return x;\n",
    "}"
   ]
  },
  {
   "cell_type": "code",
   "execution_count": 31,
   "metadata": {},
   "outputs": [],
   "source": [
    "// do this instead\n",
    "\n",
    "function factoryMethod() {\n",
    "    return {\n",
    "        a: 23,\n",
    "        b: 42\n",
    "    };\n",
    "}"
   ]
  },
  {
   "cell_type": "markdown",
   "metadata": {},
   "source": [
    "## Shorthand property names"
   ]
  },
  {
   "cell_type": "code",
   "execution_count": 185,
   "metadata": {},
   "outputs": [],
   "source": [
    "const a = 1;\n",
    "const b = 2;"
   ]
  },
  {
   "cell_type": "code",
   "execution_count": 186,
   "metadata": {},
   "outputs": [
    {
     "data": {
      "text/plain": [
       "{ a: 1, b: 2 }"
      ]
     },
     "execution_count": 186,
     "metadata": {},
     "output_type": "execute_result"
    }
   ],
   "source": [
    "const x = { a: a, b: b };\n",
    "x"
   ]
  },
  {
   "cell_type": "code",
   "execution_count": 187,
   "metadata": {},
   "outputs": [
    {
     "data": {
      "text/plain": [
       "{ a: 1, b: 2 }"
      ]
     },
     "execution_count": 187,
     "metadata": {},
     "output_type": "execute_result"
    }
   ],
   "source": [
    "const y = { a, b };\n",
    "y"
   ]
  },
  {
   "cell_type": "markdown",
   "metadata": {},
   "source": [
    "## Computed property names"
   ]
  },
  {
   "cell_type": "code",
   "execution_count": 188,
   "metadata": {},
   "outputs": [
    {
     "data": {
      "text/plain": [
       "{ '1': 4, '2': 5, d: 6 }"
      ]
     },
     "execution_count": 188,
     "metadata": {},
     "output_type": "execute_result"
    }
   ],
   "source": [
    "const d = 1;\n",
    "\n",
    "const n = {\n",
    "  [d]: 4,\n",
    "  [d + 1]: 5,\n",
    "  d: 6\n",
    "};\n",
    "\n",
    "n;"
   ]
  },
  {
   "cell_type": "markdown",
   "metadata": {},
   "source": [
    "## Destructuring assignment\n",
    "\n",
    "Allows you to \"extract\" properties from an object and make them local variables:"
   ]
  },
  {
   "cell_type": "code",
   "execution_count": 196,
   "metadata": {},
   "outputs": [],
   "source": [
    "const k = { u: 7, v: 8, w: 9 };"
   ]
  },
  {
   "cell_type": "code",
   "execution_count": 197,
   "metadata": {},
   "outputs": [
    {
     "name": "stdout",
     "output_type": "stream",
     "text": [
      "u 7\n",
      "w 9\n",
      "v undefined\n"
     ]
    }
   ],
   "source": [
    "const { u, w } = k;\n",
    "\n",
    "console.log('u', u);\n",
    "console.log('w', w);\n",
    "\n",
    "console.log('v', typeof v);"
   ]
  },
  {
   "cell_type": "markdown",
   "metadata": {},
   "source": [
    "Bonus: destructuring u to a different variable name"
   ]
  },
  {
   "cell_type": "code",
   "execution_count": 198,
   "metadata": {},
   "outputs": [
    {
     "name": "stdout",
     "output_type": "stream",
     "text": [
      "h 7\n"
     ]
    }
   ],
   "source": [
    "const { u: h } = k;\n",
    "\n",
    "console.log('h', h);"
   ]
  },
  {
   "cell_type": "markdown",
   "metadata": {},
   "source": [
    "It also works with function parameters. Instead of accepting a parameter of type object and then accessing its properties, we can now explicitly decide which properties we want the object to have:"
   ]
  },
  {
   "cell_type": "code",
   "execution_count": 199,
   "metadata": {},
   "outputs": [
    {
     "name": "stdout",
     "output_type": "stream",
     "text": [
      "u 7\n",
      "v 8\n",
      "w number\n"
     ]
    }
   ],
   "source": [
    "function f({ u, v }) {\n",
    "  console.log('u', u);\n",
    "  console.log('v', v);\n",
    "  console.log('w', typeof w);\n",
    "}\n",
    "\n",
    "f(k);"
   ]
  },
  {
   "cell_type": "code",
   "execution_count": 73,
   "metadata": {},
   "outputs": [
    {
     "name": "stdout",
     "output_type": "stream",
     "text": [
      "i 7\n",
      "j 8\n"
     ]
    }
   ],
   "source": [
    "const t = [7, 8, 9];\n",
    "const [i, j] = t;\n",
    "\n",
    "console.log('i', i);\n",
    "console.log('j', j);"
   ]
  },
  {
   "cell_type": "code",
   "execution_count": 75,
   "metadata": {},
   "outputs": [
    {
     "name": "stdout",
     "output_type": "stream",
     "text": [
      "m 7\n",
      "n 8\n",
      "o 9\n"
     ]
    }
   ],
   "source": [
    "function g([m, n, o]) {\n",
    "  console.log('m', m);\n",
    "  console.log('n', n);\n",
    "  console.log('o', o);\n",
    "}\n",
    "\n",
    "g(t);"
   ]
  },
  {
   "cell_type": "markdown",
   "metadata": {},
   "source": [
    "## Arrow functions"
   ]
  },
  {
   "cell_type": "markdown",
   "metadata": {},
   "source": [
    "### Implicit return, single operation\n",
    "\n",
    "In this case the function body is a single expression, which is evaluated and it's result is then returned by the function."
   ]
  },
  {
   "cell_type": "code",
   "execution_count": 79,
   "metadata": {},
   "outputs": [
    {
     "data": {
      "text/plain": [
       "4"
      ]
     },
     "execution_count": 79,
     "metadata": {},
     "output_type": "execute_result"
    }
   ],
   "source": [
    "const fx = (a) => a + 1;\n",
    "\n",
    "fx(3);"
   ]
  },
  {
   "cell_type": "markdown",
   "metadata": {},
   "source": [
    "### Implicit return, multiple operations\n",
    "\n",
    "This is slightly hacky, but you can use the `or` `||` and the `and` `&&` operators to perform multiple operations in a single expression:"
   ]
  },
  {
   "cell_type": "code",
   "execution_count": 80,
   "metadata": {},
   "outputs": [
    {
     "name": "stdout",
     "output_type": "stream",
     "text": [
      "log message\n"
     ]
    },
    {
     "data": {
      "text/plain": [
       "4"
      ]
     },
     "execution_count": 80,
     "metadata": {},
     "output_type": "execute_result"
    }
   ],
   "source": [
    "const fy = (a) => console.log('log message') || a + 1;\n",
    "\n",
    "fy(3);"
   ]
  },
  {
   "cell_type": "markdown",
   "metadata": {},
   "source": [
    "This example, in particular, works because `console.log()` returns `undefined` so the interpreter needs to evaluate the following operation `a + 1` to compute the or between the two expressions.\n",
    "\n",
    "Keep in mind that:\n",
    "- In a chain of `||`-ed expressions, the interpreter stops when it finds the first expression that evaluates to `true`; in this case it will return `true` and the following expressions will NOT be evaluated/executed; only when all the expressions evaluate to `false` will the interpreter return `false`; in this last case, all the expressions will have been executed.\n",
    "- In a chain of `&&`-ed expressions, the interpreter stops when it finds the first `false` and returns `false`; the rest of the expressions will not be evaluated; if all the expressions return `true`, it will return `true` and execute all of them.\n",
    "\n",
    "To be able to effectively use this hack, you need to:\n",
    "- know what the functions you invoke are returning\n",
    "- come up with a viable boolean expression that suits your need"
   ]
  },
  {
   "cell_type": "markdown",
   "metadata": {},
   "source": [
    "### Explicit return"
   ]
  },
  {
   "cell_type": "code",
   "execution_count": 57,
   "metadata": {},
   "outputs": [
    {
     "name": "stdout",
     "output_type": "stream",
     "text": [
      "performing calculations...\n"
     ]
    },
    {
     "data": {
      "text/plain": [
       "4"
      ]
     },
     "execution_count": 57,
     "metadata": {},
     "output_type": "execute_result"
    }
   ],
   "source": [
    "const fz = (a) => {\n",
    "  console.log('performing calculations...');\n",
    "  const b = a + 1;\n",
    "  return b;\n",
    "};\n",
    "\n",
    "fz(3);"
   ]
  },
  {
   "cell_type": "markdown",
   "metadata": {},
   "source": [
    "### Implicit return of object literal"
   ]
  },
  {
   "cell_type": "markdown",
   "metadata": {},
   "source": [
    "Object literals begin with a \"{\" character exactly like code blocks, so we need a way to tell them apart. We do this by wrapping them in parenthesis ()."
   ]
  },
  {
   "cell_type": "code",
   "execution_count": 84,
   "metadata": {},
   "outputs": [
    {
     "data": {
      "text/plain": [
       "{ u: 3, v: 4, w: 5 }"
      ]
     },
     "execution_count": 84,
     "metadata": {},
     "output_type": "execute_result"
    }
   ],
   "source": [
    "const fw = (a) => ({\n",
    "  u: a,\n",
    "  v: a + 1,\n",
    "  w: a + 2\n",
    "});\n",
    "\n",
    "fw(3);"
   ]
  },
  {
   "cell_type": "markdown",
   "metadata": {},
   "source": [
    "## Template literals"
   ]
  },
  {
   "cell_type": "code",
   "execution_count": 59,
   "metadata": {},
   "outputs": [
    {
     "data": {
      "text/plain": [
       "'Hi, my name is Mickey Mouse'"
      ]
     },
     "execution_count": 59,
     "metadata": {},
     "output_type": "execute_result"
    }
   ],
   "source": [
    "const character = {\n",
    "  name: 'Mickey',\n",
    "  surname: 'Mouse',\n",
    "  age: 90\n",
    "};\n",
    "\n",
    "`Hi, my name is ${character.name} ${character.surname}`"
   ]
  },
  {
   "cell_type": "markdown",
   "metadata": {},
   "source": [
    "# Patterns"
   ]
  },
  {
   "cell_type": "markdown",
   "metadata": {},
   "source": [
    "## Closures\n",
    "\n",
    "When a function is invoked, a scope is created for it and all the variables defined in it are attached to the scope. In normal circumstances, when the function returns, its scope is forgotten and its variables can be deallocated by the garbage collector.\n",
    "\n",
    "But if a function (let's call it Parent) returns an object or another function (let's call them Child) that reference any of the variables in the scope Parent, then the scope of Parent cannot be removed but it's not accessible from anywhere except the Child.\n",
    "\n",
    "In this case Child is called `a closure`. \n",
    "\n",
    "Closures provide a way to implement:\n",
    "- pseudo-private methods/variables (anything defined in the Parent becomes inaccessible from the outside, so it's only accessible if proxied by the Child)\n",
    "- factories (every time the Parent is invoked a new scope and a new instance of Child are created and returned\n",
    "\n",
    "This also means you don't need to use **.prototype** and **this** anymore.\n",
    "\n",
    "Therefore, the need to use **new** and **.bind** is also greatly reduced."
   ]
  },
  {
   "cell_type": "code",
   "execution_count": 108,
   "metadata": {},
   "outputs": [],
   "source": [
    "const calculatorFactory = () => {\n",
    "  const factor = 3;\n",
    "\n",
    "  const add = (c) => factor + c;\n",
    "  const multiply = (c) => factor * c;\n",
    "\n",
    "  return {\n",
    "    add,\n",
    "    multiply\n",
    "  };\n",
    "};\n",
    "\n",
    "const calculator = calculatorFactory();"
   ]
  },
  {
   "cell_type": "code",
   "execution_count": 110,
   "metadata": {},
   "outputs": [
    {
     "data": {
      "text/plain": [
       "5"
      ]
     },
     "execution_count": 110,
     "metadata": {},
     "output_type": "execute_result"
    }
   ],
   "source": [
    "calculator.add(2); // 5"
   ]
  },
  {
   "cell_type": "code",
   "execution_count": 111,
   "metadata": {},
   "outputs": [
    {
     "data": {
      "text/plain": [
       "12"
      ]
     },
     "execution_count": 111,
     "metadata": {},
     "output_type": "execute_result"
    }
   ],
   "source": [
    "calculator.multiply(4); // 12"
   ]
  },
  {
   "cell_type": "code",
   "execution_count": 114,
   "metadata": {},
   "outputs": [],
   "source": [
    "calculator.factor; // undefined"
   ]
  },
  {
   "cell_type": "markdown",
   "metadata": {},
   "source": [
    "So the functions defined inside the factory can access all the variables in the scope of the factory, and you can decide which function will be accessible to the end-user.\n",
    "\n",
    "That's it, now you only need to use **new** when you use a an external/old-fashioned library that requires it."
   ]
  },
  {
   "cell_type": "markdown",
   "metadata": {},
   "source": [
    "This is even more useful if we make the factor a parameter:"
   ]
  },
  {
   "cell_type": "code",
   "execution_count": 65,
   "metadata": {},
   "outputs": [],
   "source": [
    "const parametricCalculatorFactory = (factor) => {\n",
    "  const add = (c) => factor + c;\n",
    "  const multiply = (c) => factor * c;\n",
    "\n",
    "  return {\n",
    "    add,\n",
    "    multiply\n",
    "  };\n",
    "};"
   ]
  },
  {
   "cell_type": "markdown",
   "metadata": {},
   "source": [
    "Now we can use this factory to create many calculators that use a different `factor`:"
   ]
  },
  {
   "cell_type": "code",
   "execution_count": 66,
   "metadata": {},
   "outputs": [],
   "source": [
    "const calculator3 = parametricCalculatorFactory(3);"
   ]
  },
  {
   "cell_type": "code",
   "execution_count": 70,
   "metadata": {},
   "outputs": [
    {
     "data": {
      "text/plain": [
       "10"
      ]
     },
     "execution_count": 70,
     "metadata": {},
     "output_type": "execute_result"
    }
   ],
   "source": [
    "calculator3.add(7)"
   ]
  },
  {
   "cell_type": "code",
   "execution_count": 67,
   "metadata": {},
   "outputs": [],
   "source": [
    "const calculator5 = parametricCalculatorFactory(5);"
   ]
  },
  {
   "cell_type": "code",
   "execution_count": 71,
   "metadata": {},
   "outputs": [
    {
     "data": {
      "text/plain": [
       "12"
      ]
     },
     "execution_count": 71,
     "metadata": {},
     "output_type": "execute_result"
    }
   ],
   "source": [
    "calculator5.add(7)"
   ]
  },
  {
   "cell_type": "markdown",
   "metadata": {},
   "source": [
    "This is a great way to pass configuration down to an object."
   ]
  },
  {
   "cell_type": "markdown",
   "metadata": {},
   "source": [
    "### The problem with **this**\n",
    "\n",
    "Using closures solves many problems by removing the need to use the **this** keyword. **Why is that? **\n",
    "\n",
    "The reason is that **this** refers to the *execution context* of a function, not the *originating context*. The execution context is usually not fixed, and depends on how the function is invoked. It can be passed in when calling a function, and defaults to the object containing the function.\n",
    "\n",
    "This means that by using **this** in a function you expose yourself to a lot of problems an malpractices:"
   ]
  },
  {
   "cell_type": "code",
   "execution_count": 227,
   "metadata": {},
   "outputs": [
    {
     "name": "stdout",
     "output_type": "stream",
     "text": [
      "42\n"
     ]
    }
   ],
   "source": [
    "const originalContext = {\n",
    "  prop: 42,\n",
    "  func: function() {\n",
    "    return this.prop;\n",
    "  },\n",
    "};\n",
    "\n",
    "console.log(originalContext.func()); // 42"
   ]
  },
  {
   "cell_type": "code",
   "execution_count": 221,
   "metadata": {},
   "outputs": [
    {
     "name": "stdout",
     "output_type": "stream",
     "text": [
      "23\n"
     ]
    }
   ],
   "source": [
    "const anotherContext = {\n",
    "  prop: 23,\n",
    "  func: originalContext.func\n",
    "};\n",
    "\n",
    "console.log(anotherContext.func()); // 23!!!!"
   ]
  },
  {
   "cell_type": "code",
   "execution_count": 228,
   "metadata": {},
   "outputs": [
    {
     "name": "stdout",
     "output_type": "stream",
     "text": [
      "undefined\n"
     ]
    }
   ],
   "source": [
    "const noContextFunc = originalContext.func;\n",
    "\n",
    "console.log(noContextFunc()); // boom!"
   ]
  },
  {
   "cell_type": "markdown",
   "metadata": {},
   "source": [
    "The last example produces **undefined** because the execution context is the **global execution context**, which doensn't contain a variable named prop.\n",
    "\n",
    "If you need to use a function like that and you want to be sure of the context, you must use **.bind()**:"
   ]
  },
  {
   "cell_type": "code",
   "execution_count": 210,
   "metadata": {},
   "outputs": [
    {
     "name": "stdout",
     "output_type": "stream",
     "text": [
      "42\n"
     ]
    }
   ],
   "source": [
    "const fixedContextFunc = originalContext.func.bind(originalContext);\n",
    "\n",
    "console.log(fixedContextFunc()); // 42"
   ]
  },
  {
   "cell_type": "markdown",
   "metadata": {},
   "source": [
    "This is especially necessary if you want to reassign functions taken from the browser's API, such as functions coming from the **window** and **document** objects:\n",
    "\n",
    "    const addListener = document.addEventListener.bind(document);"
   ]
  },
  {
   "cell_type": "markdown",
   "metadata": {},
   "source": [
    "## Dependency injection"
   ]
  },
  {
   "cell_type": "markdown",
   "metadata": {},
   "source": [
    "**When should I use it?** \n",
    "Every time your code has a side-effect.\n",
    "\n",
    "**Why should I use it?** \n",
    "A side-effect is something that affects another part of the application, so by definition it \"couples\" two otherwise distinct parts of your project.\n",
    "\n",
    "This is bad!!! It makes your code difficult to test, reuse, maintain and refactor. You'll have to rely on external libraries like `rewire` and you'll be locked-in with your current architecture.\n",
    "\n",
    "**How do I use it?**\n",
    "Every time you need to produce a side-effect, you should do it through an object that represents the \"other\" part of the system (I'll call it the __target__). Instead of creating an instance of the object (e.g. using `new ClassName()`) in your function, you should expose the variable representing the target as a parameter of your function. Now is the external code, the code that invokes your function, that must create the target and pass it down to you.\n",
    "\n",
    "This way your code is ready to receive different versions of the target objects and you can use mock objects as targets when you want to test your code.\n",
    "\n",
    "(of course, if your function has many side-effects on different parts of the system you may need to expose/inject many different targets -- this is NOT a problem though)"
   ]
  },
  {
   "cell_type": "markdown",
   "metadata": {},
   "source": [
    "Imagine you have the following function:"
   ]
  },
  {
   "cell_type": "code",
   "execution_count": null,
   "metadata": {},
   "outputs": [],
   "source": [
    "// calculator factory with a side effect\n",
    "const calculatorFactorySE = () => {\n",
    "  const factor = 3;\n",
    "\n",
    "  const add = (c) => console.log(`adding ${c}`) || factor + c;\n",
    "  const multiply = (c) => console.log(`multiplying ${c}`) || factor * c;\n",
    "\n",
    "  return {\n",
    "    add,\n",
    "    multiply\n",
    "  };\n",
    "};"
   ]
  },
  {
   "cell_type": "markdown",
   "metadata": {},
   "source": [
    "The add and multiply methods both have side-effects in the form of a console.log() statement that prints out some information.\n",
    "\n",
    "What happens if you then want to test that the `add` method actually prints out the message? Any possible approach is difficult to implement or misleading when you try to read the test code.\n",
    "\n",
    "Everything becomes much simpler when you resort to injection:"
   ]
  },
  {
   "cell_type": "code",
   "execution_count": 77,
   "metadata": {},
   "outputs": [],
   "source": [
    "const calculatorFactory2 = (log) => {\n",
    "  const factor = 3;\n",
    "\n",
    "  const add = (c) => log(`adding ${c}`) || factor + c;\n",
    "  const multiply = (c) => log(`multiplying ${c}`) || factor * c;\n",
    "\n",
    "  return {\n",
    "    add,\n",
    "    multiply\n",
    "  };\n",
    "};"
   ]
  },
  {
   "cell_type": "markdown",
   "metadata": {},
   "source": [
    "Now you can inject different loggers:"
   ]
  },
  {
   "cell_type": "code",
   "execution_count": 24,
   "metadata": {},
   "outputs": [
    {
     "name": "stdout",
     "output_type": "stream",
     "text": [
      "adding 5\n"
     ]
    },
    {
     "data": {
      "text/plain": [
       "8"
      ]
     },
     "execution_count": 24,
     "metadata": {},
     "output_type": "execute_result"
    }
   ],
   "source": [
    "const calcToScreen = calculatorFactory2(console.log);\n",
    "\n",
    "calcToScreen.add(5); // adding 5"
   ]
  },
  {
   "cell_type": "code",
   "execution_count": 78,
   "metadata": {},
   "outputs": [
    {
     "name": "stdout",
     "output_type": "stream",
     "text": [
      "[ 'adding 5' ]\n"
     ]
    }
   ],
   "source": [
    "const loggerFactory = () => {\n",
    "    const messages = [];\n",
    "    const getMessages = () => messages;\n",
    "    const logger = (msg) => messages.push(msg);\n",
    "    return { getMessages, logger };\n",
    "};\n",
    "\n",
    "const { getMessages, logger } = loggerFactory();\n",
    "\n",
    "const calcToArray = calculatorFactory2(logger);\n",
    "\n",
    "calcToArray.add(5);\n",
    "\n",
    "console.log(getMessages());"
   ]
  },
  {
   "cell_type": "markdown",
   "metadata": {},
   "source": [
    "### Mock objects\n",
    "\n",
    "Dependency injection makes it easier to work with mock objects. All you have to do is create an object implementing the same interface as the object you are mocking, and inject it into the function or factory you are trying to test.\n",
    "\n",
    "The simplest way to do this is by making the mock object push log strings into an array and then using the array to check that all the expected steps have been performed."
   ]
  },
  {
   "cell_type": "code",
   "execution_count": 28,
   "metadata": {},
   "outputs": [
    {
     "ename": "ReferenceError",
     "evalue": "document is not defined",
     "execution_count": 28,
     "output_type": "error",
     "traceback": [
      "evalmachine.<anonymous>:1",
      "document",
      "^",
      "",
      "ReferenceError: document is not defined",
      "    at evalmachine.<anonymous>:1:1",
      "    at ContextifyScript.Script.runInThisContext (vm.js:50:33)",
      "    at Object.runInThisContext (vm.js:139:38)",
      "    at run ([eval]:1002:15)",
      "    at onRunRequest ([eval]:829:18)",
      "    at onMessage ([eval]:789:13)",
      "    at emitTwo (events.js:126:13)",
      "    at process.emit (events.js:214:7)",
      "    at emit (internal/child_process.js:772:12)",
      "    at _combinedTickCallback (internal/process/next_tick.js:141:11)"
     ]
    }
   ],
   "source": [
    "// example to come"
   ]
  },
  {
   "cell_type": "markdown",
   "metadata": {},
   "source": [
    "# Functional programming\n",
    "\n",
    "Functional programming aims at reducing the complexity of a system by transforming a program into a pipeline through which data flows. The pipeline is made of many stations where the data is transformed and progressively refined until it reaches the desired shape.\n",
    "\n",
    "In its purest form, functional programming is a pain when it comes to state management. When used with moderation, however, it drastically reduces boilerplate code and can make programs easier to write, read and maintain."
   ]
  },
  {
   "cell_type": "markdown",
   "metadata": {},
   "source": [
    "## Currying\n",
    "\n",
    "Currying a function splits it into multiple nested functions, so that you can invoke them one at a time. The simplest way to explain it is graphically: say you have this function:"
   ]
  },
  {
   "cell_type": "code",
   "execution_count": 86,
   "metadata": {},
   "outputs": [],
   "source": [
    "function f(a, b) {\n",
    "    return a * b;\n",
    "}"
   ]
  },
  {
   "cell_type": "markdown",
   "metadata": {},
   "source": [
    "you normally invoke it like this:"
   ]
  },
  {
   "cell_type": "code",
   "execution_count": 87,
   "metadata": {},
   "outputs": [
    {
     "data": {
      "text/plain": [
       "6"
      ]
     },
     "execution_count": 87,
     "metadata": {},
     "output_type": "execute_result"
    }
   ],
   "source": [
    "f(3, 2)"
   ]
  },
  {
   "cell_type": "markdown",
   "metadata": {},
   "source": [
    "The simplest \"curried\" version of `f(a, b)` is as follows:"
   ]
  },
  {
   "cell_type": "code",
   "execution_count": 89,
   "metadata": {},
   "outputs": [],
   "source": [
    "function fc(a) {\n",
    "    return function fc_a(b) {\n",
    "        return a * b;\n",
    "    }\n",
    "}"
   ]
  },
  {
   "cell_type": "markdown",
   "metadata": {},
   "source": [
    "so you can invoke it like this:"
   ]
  },
  {
   "cell_type": "code",
   "execution_count": 90,
   "metadata": {},
   "outputs": [
    {
     "data": {
      "text/plain": [
       "6"
      ]
     },
     "execution_count": 90,
     "metadata": {},
     "output_type": "execute_result"
    }
   ],
   "source": [
    "fc(3)(2)"
   ]
  },
  {
   "cell_type": "markdown",
   "metadata": {},
   "source": [
    "This means that you don't need to know both parameters `a` and `b` at the same time. When `a` is available you can pass it to the curried function and it will return another function (`fc_a` in this case, but it's usually an anonymous function) that already contains the value for `a`."
   ]
  },
  {
   "cell_type": "code",
   "execution_count": 21,
   "metadata": {},
   "outputs": [
    {
     "name": "stdout",
     "output_type": "stream",
     "text": [
      "3\n",
      "6\n",
      "9\n",
      "12\n",
      "15\n",
      "18\n",
      "21\n",
      "24\n",
      "27\n",
      "30\n"
     ]
    }
   ],
   "source": [
    "// print all multiples of 3 from 1st to 10th\n",
    "\n",
    "for (let i = 1; i <= 10; i++) {\n",
    "    console.log(f(3, i))\n",
    "}"
   ]
  },
  {
   "cell_type": "code",
   "execution_count": 22,
   "metadata": {},
   "outputs": [
    {
     "name": "stdout",
     "output_type": "stream",
     "text": [
      "3\n",
      "6\n",
      "9\n",
      "12\n",
      "15\n",
      "18\n",
      "21\n",
      "24\n",
      "27\n",
      "30\n"
     ]
    }
   ],
   "source": [
    "// print all multiples of 3 from 1st to 10th\n",
    "// using curried function\n",
    "\n",
    "const fc_3 = fc(3); \n",
    "// now fc_3 is a function that takes only one parameter and returns 3 * param\n",
    "\n",
    "for (let i = 1; i <= 10; i++) {\n",
    "    console.log(fc_3(i))\n",
    "}"
   ]
  },
  {
   "cell_type": "markdown",
   "metadata": {},
   "source": [
    "Note that using arrow functions this becomes ultra-compact:"
   ]
  },
  {
   "cell_type": "code",
   "execution_count": 100,
   "metadata": {},
   "outputs": [],
   "source": [
    "const fc = (a) => (b) => a * b;"
   ]
  },
  {
   "cell_type": "markdown",
   "metadata": {},
   "source": [
    "Also note that Ramda contains an **R.curry** function that takes a normal function and returns the curried version of the same."
   ]
  },
  {
   "cell_type": "code",
   "execution_count": 97,
   "metadata": {},
   "outputs": [],
   "source": [
    "const R = require('ramda');"
   ]
  },
  {
   "cell_type": "code",
   "execution_count": 98,
   "metadata": {},
   "outputs": [],
   "source": [
    "function f(a, b) {\n",
    "    return a * b;\n",
    "}"
   ]
  },
  {
   "cell_type": "code",
   "execution_count": 99,
   "metadata": {},
   "outputs": [
    {
     "name": "stdout",
     "output_type": "stream",
     "text": [
      "[Function]\n",
      "20\n"
     ]
    }
   ],
   "source": [
    "const curried_f = R.curry(f);\n",
    "\n",
    "console.log(curried_f(5)); // [Function]\n",
    "console.log(curried_f(5)(4)); // 20"
   ]
  },
  {
   "cell_type": "markdown",
   "metadata": {},
   "source": [
    "## Map, Filter, Reduce\n",
    "\n",
    "Very often, the only reason to use a loop statement (such as `for` or `while`) is to go through all the elements of a collection in order to perform the same action of the all the elements of the collection. This kind of operations can be greatly simplified with the use of Map/Filter/Reduce."
   ]
  },
  {
   "cell_type": "markdown",
   "metadata": {},
   "source": [
    "### Map\n",
    "\n",
    "The map method applies a function to all elements in an array, and returns the results in an array with the same order as the initial one."
   ]
  },
  {
   "cell_type": "code",
   "execution_count": 66,
   "metadata": {},
   "outputs": [],
   "source": [
    "const numbers = [0, 4, 2, 0, 1, 5, 3];"
   ]
  },
  {
   "cell_type": "code",
   "execution_count": 60,
   "metadata": {},
   "outputs": [
    {
     "data": {
      "text/plain": [
       "[ 0, 8, 4, 0, 2, 10, 6 ]"
      ]
     },
     "execution_count": 60,
     "metadata": {},
     "output_type": "execute_result"
    }
   ],
   "source": [
    "numbers.map(function(n) { \n",
    "    return 2 * n;\n",
    "});"
   ]
  },
  {
   "cell_type": "code",
   "execution_count": 61,
   "metadata": {},
   "outputs": [
    {
     "data": {
      "text/plain": [
       "[ 0, 8, 4, 0, 2, 10, 6 ]"
      ]
     },
     "execution_count": 61,
     "metadata": {},
     "output_type": "execute_result"
    }
   ],
   "source": [
    "// using arrow functions\n",
    "numbers.map((n) => 2 * n);"
   ]
  },
  {
   "cell_type": "code",
   "execution_count": 64,
   "metadata": {},
   "outputs": [],
   "source": [
    "// using currying\n",
    "const R = require('ramda');\n",
    "const f = R.curry((a, b) => a * b);"
   ]
  },
  {
   "cell_type": "code",
   "execution_count": 68,
   "metadata": {},
   "outputs": [
    {
     "data": {
      "text/plain": [
       "[ 0, 8, 4, 0, 2, 10, 6 ]"
      ]
     },
     "execution_count": 68,
     "metadata": {},
     "output_type": "execute_result"
    }
   ],
   "source": [
    "numbers.map((n) => f(2)(n));"
   ]
  },
  {
   "cell_type": "markdown",
   "metadata": {},
   "source": [
    "Note that writing `(n) => f(n)` is exactly the same as writing just `f`\n",
    "\n",
    "So in our case `(n) => f(2)(n)` is exactly the same as just `f(2)`"
   ]
  },
  {
   "cell_type": "code",
   "execution_count": 69,
   "metadata": {},
   "outputs": [
    {
     "data": {
      "text/plain": [
       "[ 0, 8, 4, 0, 2, 10, 6 ]"
      ]
     },
     "execution_count": 69,
     "metadata": {},
     "output_type": "execute_result"
    }
   ],
   "source": [
    "// simplifying\n",
    "numbers.map(f(2));"
   ]
  },
  {
   "cell_type": "markdown",
   "metadata": {},
   "source": [
    "Another example:"
   ]
  },
  {
   "cell_type": "code",
   "execution_count": 110,
   "metadata": {},
   "outputs": [],
   "source": [
    "const introduce = (character) => `Hi, my name is ${character.name} ${character.surname}`;"
   ]
  },
  {
   "cell_type": "code",
   "execution_count": 83,
   "metadata": {},
   "outputs": [
    {
     "data": {
      "text/plain": [
       "'Hi, my name is Stefano Butera'"
      ]
     },
     "execution_count": 83,
     "metadata": {},
     "output_type": "execute_result"
    }
   ],
   "source": [
    "introduce({ name: 'Stefano', surname: 'Butera' })"
   ]
  },
  {
   "cell_type": "code",
   "execution_count": 84,
   "metadata": {},
   "outputs": [
    {
     "data": {
      "text/plain": [
       "[ 'Hi, my name is Mickey Mouse', 'Hi, my name is Donald Duck' ]"
      ]
     },
     "execution_count": 84,
     "metadata": {},
     "output_type": "execute_result"
    }
   ],
   "source": [
    "const chars = [\n",
    "  {\n",
    "    name: 'Mickey',\n",
    "    surname: 'Mouse',\n",
    "    age: 90\n",
    "  },\n",
    "  {\n",
    "    name: 'Donald',\n",
    "    surname: 'Duck',\n",
    "    age: 84\n",
    "  }\n",
    "];\n",
    "\n",
    "chars.map(introduce);"
   ]
  },
  {
   "cell_type": "markdown",
   "metadata": {},
   "source": [
    "### Filter\n",
    "\n",
    "The `filter` method selects only the elements of an array that satisfy a specified condition. The condition is expressed as a function that is given one element of the array and can return `true` or `false` in order to keep it or discard it."
   ]
  },
  {
   "cell_type": "code",
   "execution_count": 111,
   "metadata": {},
   "outputs": [],
   "source": [
    "const isOldEnough = (character) => character.age > 86;"
   ]
  },
  {
   "cell_type": "code",
   "execution_count": 114,
   "metadata": {},
   "outputs": [
    {
     "data": {
      "text/plain": [
       "false"
      ]
     },
     "execution_count": 114,
     "metadata": {},
     "output_type": "execute_result"
    }
   ],
   "source": [
    "isOldEnough({ age: 10 })"
   ]
  },
  {
   "cell_type": "code",
   "execution_count": 115,
   "metadata": {},
   "outputs": [
    {
     "data": {
      "text/plain": [
       "true"
      ]
     },
     "execution_count": 115,
     "metadata": {},
     "output_type": "execute_result"
    }
   ],
   "source": [
    "isOldEnough({ age: 100 })"
   ]
  },
  {
   "cell_type": "code",
   "execution_count": 112,
   "metadata": {},
   "outputs": [
    {
     "data": {
      "text/plain": [
       "[ { name: 'Mickey', surname: 'Mouse', age: 90 } ]"
      ]
     },
     "execution_count": 112,
     "metadata": {},
     "output_type": "execute_result"
    }
   ],
   "source": [
    "const chars = [\n",
    "  {\n",
    "    name: 'Mickey',\n",
    "    surname: 'Mouse',\n",
    "    age: 90\n",
    "  },\n",
    "  {\n",
    "    name: 'Donald',\n",
    "    surname: 'Duck',\n",
    "    age: 84\n",
    "  }\n",
    "];\n",
    "\n",
    "chars.filter(isOldEnough);"
   ]
  },
  {
   "cell_type": "markdown",
   "metadata": {},
   "source": [
    "Since both map and filter return arrays, they can also be chained:"
   ]
  },
  {
   "cell_type": "code",
   "execution_count": 113,
   "metadata": {},
   "outputs": [
    {
     "data": {
      "text/plain": [
       "[ 'Hi, my name is Mickey Mouse' ]"
      ]
     },
     "execution_count": 113,
     "metadata": {},
     "output_type": "execute_result"
    }
   ],
   "source": [
    "chars.filter(isOldEnough).map(introduce)"
   ]
  },
  {
   "cell_type": "markdown",
   "metadata": {},
   "source": [
    "It's worth notice that since the Boolean() constructor returns `true` or `false` depending on the truthiness or falseness of the parameter, it can be used to easily filter out all falsy elements from an array (i.e. null, zero or undefined values):"
   ]
  },
  {
   "cell_type": "code",
   "execution_count": 125,
   "metadata": {},
   "outputs": [
    {
     "data": {
      "text/plain": [
       "[ 4, 2, 1, 5, 3 ]"
      ]
     },
     "execution_count": 125,
     "metadata": {},
     "output_type": "execute_result"
    }
   ],
   "source": [
    "const numbers = [0, 4, 2, 0, 1, 5, 3];\n",
    "\n",
    "numbers.filter(Boolean)"
   ]
  },
  {
   "cell_type": "markdown",
   "metadata": {},
   "source": [
    "### Reduce\n",
    "\n",
    "Reduce takes an array and combines all its elements together in an `accumulator`, using a given function to perform the aggregation. It then returns the accumulator."
   ]
  },
  {
   "cell_type": "code",
   "execution_count": 134,
   "metadata": {},
   "outputs": [],
   "source": [
    "const reducer = (acc, val) => acc + val;"
   ]
  },
  {
   "cell_type": "code",
   "execution_count": 135,
   "metadata": {},
   "outputs": [],
   "source": [
    "const numbers = [0, 4, 2, 0, 1, 5, 3];"
   ]
  },
  {
   "cell_type": "code",
   "execution_count": 136,
   "metadata": {},
   "outputs": [
    {
     "data": {
      "text/plain": [
       "15"
      ]
     },
     "execution_count": 136,
     "metadata": {},
     "output_type": "execute_result"
    }
   ],
   "source": [
    "numbers.reduce(reducer)"
   ]
  },
  {
   "cell_type": "code",
   "execution_count": 137,
   "metadata": {},
   "outputs": [
    {
     "data": {
      "text/plain": [
       "9"
      ]
     },
     "execution_count": 137,
     "metadata": {},
     "output_type": "execute_result"
    }
   ],
   "source": [
    "numbers\n",
    "    .filter((n) => n > 3)\n",
    "    .reduce(reducer)"
   ]
  },
  {
   "cell_type": "code",
   "execution_count": 138,
   "metadata": {},
   "outputs": [
    {
     "data": {
      "text/plain": [
       "13"
      ]
     },
     "execution_count": 138,
     "metadata": {},
     "output_type": "execute_result"
    }
   ],
   "source": [
    "numbers\n",
    "    .filter((n) => n > 3)\n",
    "    .map((m) => m ^ 2)\n",
    "    .reduce(reducer)"
   ]
  },
  {
   "cell_type": "markdown",
   "metadata": {},
   "source": [
    "## R.map, R.filter, R.reduce\n",
    "\n",
    "Ramda provides stand-alone versions of the map/filter/reduce functions (and much more).\n",
    "\n",
    "These functions are also curried, so you can apply them partially. This is especially useful for use in composition (see R.pipe)."
   ]
  },
  {
   "cell_type": "code",
   "execution_count": 43,
   "metadata": {},
   "outputs": [],
   "source": [
    "const R = require('ramda')"
   ]
  },
  {
   "cell_type": "code",
   "execution_count": 44,
   "metadata": {},
   "outputs": [],
   "source": [
    "const numbers = [0, 4, 2, 0, 1, 5, 3];"
   ]
  },
  {
   "cell_type": "code",
   "execution_count": 45,
   "metadata": {},
   "outputs": [],
   "source": [
    "const reducer = (acc, val) => acc + val;"
   ]
  },
  {
   "cell_type": "code",
   "execution_count": 46,
   "metadata": {},
   "outputs": [],
   "source": [
    "const squareAll = R.map((n) => n * n);"
   ]
  },
  {
   "cell_type": "code",
   "execution_count": 47,
   "metadata": {},
   "outputs": [
    {
     "data": {
      "text/plain": [
       "[ 0, 16, 4, 0, 1, 25, 9 ]"
      ]
     },
     "execution_count": 47,
     "metadata": {},
     "output_type": "execute_result"
    }
   ],
   "source": [
    "squareAll(numbers)"
   ]
  },
  {
   "cell_type": "code",
   "execution_count": 48,
   "metadata": {},
   "outputs": [],
   "source": [
    "const gt3 = R.map((n) => n > 3);"
   ]
  },
  {
   "cell_type": "code",
   "execution_count": 49,
   "metadata": {},
   "outputs": [
    {
     "data": {
      "text/plain": [
       "[ false, true, false, false, false, true, false ]"
      ]
     },
     "execution_count": 49,
     "metadata": {},
     "output_type": "execute_result"
    }
   ],
   "source": [
    "gt3(numbers)"
   ]
  },
  {
   "cell_type": "code",
   "execution_count": 50,
   "metadata": {},
   "outputs": [],
   "source": [
    "const sumAll = R.reduce(reducer, 0);"
   ]
  },
  {
   "cell_type": "code",
   "execution_count": 51,
   "metadata": {},
   "outputs": [
    {
     "data": {
      "text/plain": [
       "15"
      ]
     },
     "execution_count": 51,
     "metadata": {},
     "output_type": "execute_result"
    }
   ],
   "source": [
    "sumAll(numbers)"
   ]
  },
  {
   "cell_type": "markdown",
   "metadata": {},
   "source": [
    "## R.pipe\n",
    "\n",
    "R.pipe allows you to create higher-order function by composing existing functions."
   ]
  },
  {
   "cell_type": "code",
   "execution_count": 7,
   "metadata": {},
   "outputs": [],
   "source": [
    "const R = require('ramda');"
   ]
  },
  {
   "cell_type": "code",
   "execution_count": 8,
   "metadata": {},
   "outputs": [],
   "source": [
    "const reducer = (acc, val) => acc + val;"
   ]
  },
  {
   "cell_type": "code",
   "execution_count": 9,
   "metadata": {},
   "outputs": [],
   "source": [
    "const numbers = [0, 4, 2, 0, 1, 5, 3];"
   ]
  },
  {
   "cell_type": "code",
   "execution_count": 24,
   "metadata": {},
   "outputs": [],
   "source": [
    "const transform = R.pipe(\n",
    "    R.filter((n) => n > 3),\n",
    "    R.map((m) => m * m),\n",
    "    R.reduce(reducer, 0)\n",
    ");"
   ]
  },
  {
   "cell_type": "code",
   "execution_count": 25,
   "metadata": {},
   "outputs": [
    {
     "data": {
      "text/plain": [
       "41"
      ]
     },
     "execution_count": 25,
     "metadata": {},
     "output_type": "execute_result"
    }
   ],
   "source": [
    "transform(numbers)"
   ]
  },
  {
   "cell_type": "markdown",
   "metadata": {},
   "source": [
    "# Promises\n",
    "\n",
    "A promise is an object representing the future result of an asynchronous operation.\n",
    "\n",
    "The basic interface of a promise has two methods:\n",
    "- `then()` is invoked when the asynchronous operation is completed; the result value of the operation is passed to the callback as a parameter; any value or promise returned by the callback is itself elevated to a promise, so the `then` methods can be chained;\n",
    "- `catch()` is invoked when the promise resolves to an error or when it raises an exception; this means that you don't need to have try/catch blocks in a `then` callback, you can just chain a `catch` to it."
   ]
  },
  {
   "cell_type": "code",
   "execution_count": 89,
   "metadata": {},
   "outputs": [],
   "source": [
    "const request = require('request-promise');"
   ]
  },
  {
   "cell_type": "code",
   "execution_count": 91,
   "metadata": {},
   "outputs": [
    {
     "data": {
      "text/plain": [
       "Request {\n",
       "  domain: null,\n",
       "  _events: \n",
       "   { error: [Function: bound ],\n",
       "     complete: [Function: bound ],\n",
       "     pipe: [Function] },\n",
       "  _eventsCount: 3,\n",
       "  _maxListeners: undefined,\n",
       "  uri: \n",
       "   Url {\n",
       "     protocol: 'https:',\n",
       "     slashes: true,\n",
       "     auth: null,\n",
       "     host: 'reststop.randomhouse.com',\n",
       "     port: 443,\n",
       "     hostname: 'reststop.randomhouse.com',\n",
       "     hash: null,\n",
       "     search: '?lastName=Grisham',\n",
       "     query: 'lastName=Grisham',\n",
       "     pathname: '/resources/authors',\n",
       "     path: '/resources/authors?lastName=Grisham',\n",
       "     href: 'https://reststop.randomhouse.com/resources/authors?lastName=Grisham' },\n",
       "  readable: true,\n",
       "  writable: true,\n",
       "  _qs: \n",
       "   Querystring {\n",
       "     request: [Circular],\n",
       "     lib: { formats: [Object], parse: [Function], stringify: [Function] },\n",
       "     useQuerystring: undefined,\n",
       "     parseOptions: {},\n",
       "     stringifyOptions: {} },\n",
       "  _auth: \n",
       "   Auth {\n",
       "     request: [Circular],\n",
       "     hasAuth: false,\n",
       "     sentAuth: false,\n",
       "     bearerToken: null,\n",
       "     user: null,\n",
       "     pass: null },\n",
       "  _oauth: OAuth { request: [Circular], params: null },\n",
       "  _multipart: \n",
       "   Multipart {\n",
       "     request: [Circular],\n",
       "     boundary: 'fa8a2a30-f304-4d20-a499-6ac636444e77',\n",
       "     chunked: false,\n",
       "     body: null },\n",
       "  _redirect: \n",
       "   Redirect {\n",
       "     request: [Circular],\n",
       "     followRedirect: true,\n",
       "     followRedirects: true,\n",
       "     followAllRedirects: false,\n",
       "     followOriginalHttpMethod: false,\n",
       "     allowRedirect: [Function],\n",
       "     maxRedirects: 10,\n",
       "     redirects: [],\n",
       "     redirectsFollowed: 0,\n",
       "     removeRefererHeader: false },\n",
       "  _tunnel: \n",
       "   Tunnel {\n",
       "     request: [Circular],\n",
       "     proxyHeaderWhiteList: \n",
       "      [ 'accept',\n",
       "        'accept-charset',\n",
       "        'accept-encoding',\n",
       "        'accept-language',\n",
       "        'accept-ranges',\n",
       "        'cache-control',\n",
       "        'content-encoding',\n",
       "        'content-language',\n",
       "        'content-location',\n",
       "        'content-md5',\n",
       "        'content-range',\n",
       "        'content-type',\n",
       "        'connection',\n",
       "        'date',\n",
       "        'expect',\n",
       "        'max-forwards',\n",
       "        'pragma',\n",
       "        'referer',\n",
       "        'te',\n",
       "        'user-agent',\n",
       "        'via' ],\n",
       "     proxyHeaderExclusiveList: [] },\n",
       "  _rp_resolve: [Function],\n",
       "  _rp_reject: [Function],\n",
       "  _rp_promise: \n",
       "   Promise {\n",
       "     _bitField: 0,\n",
       "     _fulfillmentHandler0: undefined,\n",
       "     _rejectionHandler0: undefined,\n",
       "     _promise0: undefined,\n",
       "     _receiver0: undefined,\n",
       "     _onCancelField: [Function] },\n",
       "  _rp_callbackOrig: undefined,\n",
       "  callback: [Function],\n",
       "  _rp_options: \n",
       "   { uri: 'https://reststop.randomhouse.com/resources/authors?lastName=Grisham',\n",
       "     callback: [Function: RP$callback],\n",
       "     transform: undefined,\n",
       "     simple: true,\n",
       "     resolveWithFullResponse: false,\n",
       "     transform2xxOnly: false },\n",
       "  headers: { host: 'reststop.randomhouse.com' },\n",
       "  setHeader: [Function],\n",
       "  hasHeader: [Function],\n",
       "  getHeader: [Function],\n",
       "  removeHeader: [Function],\n",
       "  method: 'GET',\n",
       "  localAddress: undefined,\n",
       "  pool: {},\n",
       "  dests: [],\n",
       "  __isRequestRequest: true,\n",
       "  _callback: [Function: RP$callback],\n",
       "  proxy: null,\n",
       "  tunnel: true,\n",
       "  setHost: true,\n",
       "  originalCookieHeader: undefined,\n",
       "  _disableCookies: true,\n",
       "  _jar: undefined,\n",
       "  port: 443,\n",
       "  host: 'reststop.randomhouse.com',\n",
       "  path: '/resources/authors?lastName=Grisham',\n",
       "  httpModule: \n",
       "   { Agent: { [Function: Agent] super_: [Object] },\n",
       "     globalAgent: \n",
       "      Agent {\n",
       "        domain: null,\n",
       "        _events: [Object],\n",
       "        _eventsCount: 1,\n",
       "        _maxListeners: undefined,\n",
       "        defaultPort: 443,\n",
       "        protocol: 'https:',\n",
       "        options: [Object],\n",
       "        requests: {},\n",
       "        sockets: {},\n",
       "        freeSockets: {},\n",
       "        keepAliveMsecs: 1000,\n",
       "        keepAlive: false,\n",
       "        maxSockets: Infinity,\n",
       "        maxFreeSockets: 256,\n",
       "        maxCachedSessions: 100,\n",
       "        _sessionCache: [Object] },\n",
       "     Server: { [Function: Server] super_: [Object] },\n",
       "     createServer: [Function: createServer],\n",
       "     get: [Function: get],\n",
       "     request: [Function: request] },\n",
       "  agentClass: \n",
       "   { [Function: Agent]\n",
       "     super_: { [Function: Agent] super_: [Object], defaultMaxSockets: Infinity } },\n",
       "  agent: \n",
       "   Agent {\n",
       "     domain: null,\n",
       "     _events: { free: [Function] },\n",
       "     _eventsCount: 1,\n",
       "     _maxListeners: undefined,\n",
       "     defaultPort: 443,\n",
       "     protocol: 'https:',\n",
       "     options: { path: null },\n",
       "     requests: {},\n",
       "     sockets: {},\n",
       "     freeSockets: {},\n",
       "     keepAliveMsecs: 1000,\n",
       "     keepAlive: false,\n",
       "     maxSockets: Infinity,\n",
       "     maxFreeSockets: 256,\n",
       "     maxCachedSessions: 100,\n",
       "     _sessionCache: { map: [Object], list: [Array] } } }"
      ]
     },
     "execution_count": 91,
     "metadata": {},
     "output_type": "execute_result"
    }
   ],
   "source": [
    "request('https://reststop.randomhouse.com/resources/authors?lastName=Grisham')"
   ]
  },
  {
   "cell_type": "markdown",
   "metadata": {},
   "source": [
    "## Use cases\n",
    "\n",
    "### How to start a promise chain\n",
    "\n",
    "Most libraries that provide asynchronous functionality provide a promise-based interface. This means that you can usually just invoke the asynchronous function and start chaining `then` and `catch` right away, e.g.:"
   ]
  },
  {
   "cell_type": "code",
   "execution_count": 97,
   "metadata": {},
   "outputs": [
    {
     "data": {
      "text/plain": [
       "Promise {\n",
       "  _bitField: 0,\n",
       "  _fulfillmentHandler0: undefined,\n",
       "  _rejectionHandler0: undefined,\n",
       "  _promise0: undefined,\n",
       "  _receiver0: undefined,\n",
       "  _cancellationParent: \n",
       "   Promise {\n",
       "     _bitField: 1,\n",
       "     _fulfillmentHandler0: undefined,\n",
       "     _rejectionHandler0: [Function],\n",
       "     _promise0: [Circular],\n",
       "     _receiver0: undefined,\n",
       "     _cancellationParent: \n",
       "      Promise {\n",
       "        _bitField: 1,\n",
       "        _fulfillmentHandler0: [Function],\n",
       "        _rejectionHandler0: undefined,\n",
       "        _promise0: [Circular],\n",
       "        _receiver0: undefined,\n",
       "        _onCancelField: [Function],\n",
       "        _branchesRemainingToCancel: 1 },\n",
       "     _branchesRemainingToCancel: 1 } }"
      ]
     },
     "execution_count": 97,
     "metadata": {},
     "output_type": "execute_result"
    },
    {
     "name": "stdout",
     "output_type": "stream",
     "text": [
      "list of books from Grisham <?xml version=\"1.0\" encoding=\"UTF-8\" standalone=\"yes\"?><authors uri=\"https://reststop.randomhouse.com/resources/authors?lastName=Grisham\"><author uri=\"https://reststop.randomhouse.com/resources/authors/11178\"><approved>X</approved><authordisplay>John Grisham</authordisplay><authorfirst>John</authorfirst><authorfirstlc>john</authorfirstlc><authorid>11178</authorid><authorlast>Grisham</authorlast><authorlastfirst>GRISHAM, JOHN</authorlastfirst><authorlastlc>grisham</authorlastlc><titles><isbn contributortype=\"A\">9780142417225</isbn><isbn contributortype=\"A\">9780142421376</isbn><isbn contributortype=\"A\">9780142423097</isbn><isbn contributortype=\"A\">9780142426135</isbn><isbn contributortype=\"A\">9780142428696</isbn><isbn contributortype=\"A\">9780142429419</isbn><isbn contributortype=\"A\">9780147510181</isbn><isbn contributortype=\"A\">9780147510198</isbn><isbn contributortype=\"A\">9780147514448</isbn><isbn contributortype=\"A\">9780307474759</isbn><isbn contributortype=\"A\">9780307475329</isbn><isbn contributortype=\"A\">9780307575968</isbn><isbn contributortype=\"A\">9780307575975</isbn><isbn contributortype=\"A\">9780307575982</isbn><isbn contributortype=\"A\">9780307575999</isbn><isbn contributortype=\"A\">9780307576002</isbn><isbn contributortype=\"A\">9780307576019</isbn><isbn contributortype=\"A\">9780307576026</isbn><isbn contributortype=\"A\">9780307576033</isbn><isbn contributortype=\"A\">9780307576040</isbn><isbn contributortype=\"A\">9780307576057</isbn><isbn contributortype=\"A\">9780307576064</isbn><isbn contributortype=\"A\">9780307576071</isbn><isbn contributortype=\"A\">9780307576088</isbn><isbn contributortype=\"A\">9780307576095</isbn><isbn contributortype=\"A\">9780307576101</isbn><isbn contributortype=\"A\">9780307576118</isbn><isbn contributortype=\"A\">9780307576125</isbn><isbn contributortype=\"A\">9780307576132</isbn><isbn contributortype=\"A\">9780307576149</isbn><isbn contributortype=\"A\">9780307576156</isbn><isbn contributortype=\"A\">9780307576163</isbn><isbn contributortype=\"A\">9780307576170</isbn><isbn contributortype=\"A\">9780307576200</isbn><isbn contributortype=\"4 A\">9780307702111</isbn><isbn contributortype=\"4 A\">9780307702135</isbn><isbn contributortype=\"A\">9780307702951</isbn><isbn contributortype=\"A\">9780307750907</isbn><isbn contributortype=\"A\">9780307943187</isbn><isbn contributortype=\"A\">9780307943200</isbn><isbn contributortype=\"A\">9780307943224</isbn><isbn contributortype=\"A\">9780307943248</isbn><isbn contributortype=\"A\">9780307943262</isbn><isbn contributortype=\"A\">9780307943286</isbn><isbn contributortype=\"A\">9780307970893</isbn><isbn contributortype=\"A\">9780307990747</isbn><isbn contributortype=\"A\">9780345525727</isbn><isbn contributortype=\"A\">9780345530561</isbn><isbn contributortype=\"A\">9780345530578</isbn><isbn contributortype=\"A\">9780345531926</isbn><isbn contributortype=\"A\">9780345531933</isbn><isbn contributortype=\"A\">9780345531940</isbn><isbn contributortype=\"A\">9780345531957</isbn><isbn contributortype=\"A\">9780345531964</isbn><isbn contributortype=\"A\">9780345531971</isbn><isbn contributortype=\"A\">9780345531988</isbn><isbn contributortype=\"A\">9780345531995</isbn><isbn contributortype=\"A\">9780345532008</isbn><isbn contributortype=\"A\">9780345532015</isbn><isbn contributortype=\"A\">9780345532022</isbn><isbn contributortype=\"A\">9780345532039</isbn><isbn contributortype=\"A\">9780345532046</isbn><isbn contributortype=\"A\">9780345532053</isbn><isbn contributortype=\"A\">9780345534552</isbn><isbn contributortype=\"A\">9780345536624</isbn><isbn contributortype=\"A\">9780345536648</isbn><isbn contributortype=\"A\">9780345536884</isbn><isbn contributortype=\"A\">9780345541338</isbn><isbn contributortype=\"A\">9780345543240</isbn><isbn contributortype=\"A\">9780345543257</isbn><isbn contributortype=\"A\">9780345545336</isbn><isbn contributortype=\"A\">9780345546586</isbn><isbn contributortype=\"A\">9780385319058</isbn><isbn contributortype=\"A\">9780385337939</isbn><isbn contributortype=\"A\">9780385338608</isbn><isbn contributortype=\"A\">9780385339087</isbn><isbn contributortype=\"A\">9780385339094</isbn><isbn contributortype=\"A\">9780385339100</isbn><isbn contributortype=\"A\">9780385339582</isbn><isbn contributortype=\"A\">9780385339599</isbn><isbn contributortype=\"A\">9780385339605</isbn><isbn contributortype=\"A\">9780385339650</isbn><isbn contributortype=\"A\">9780385339667</isbn><isbn contributortype=\"A\">9780385339674</isbn><isbn contributortype=\"A\">9780385339681</isbn><isbn contributortype=\"A\">9780385339698</isbn><isbn contributortype=\"A\">9780385339704</isbn><isbn contributortype=\"A\">9780385340540</isbn><isbn contributortype=\"A\">9780385340878</isbn><isbn contributortype=\"A\">9780385340915</isbn><isbn contributortype=\"A\">9780385342926</isbn><isbn contributortype=\"A\">9780385344005</isbn><isbn contributortype=\"A\">9780385363150</isbn><isbn contributortype=\"A\">9780385363167</isbn><isbn contributortype=\"A\">9780385366465</isbn><isbn contributortype=\"A\">9780385366472</isbn><isbn contributortype=\"A\">9780385366489</isbn><isbn contributortype=\"A\">9780385366502</isbn><isbn contributortype=\"A\">9780385366526</isbn><isbn contributortype=\"A\">9780385366540</isbn><isbn contributortype=\"A\">9780385366564</isbn><isbn contributortype=\"A\">9780385416344</isbn><isbn contributortype=\"A\">9780385421980</isbn><isbn contributortype=\"A\">9780385424714</isbn><isbn contributortype=\"A\">9780385424721</isbn><isbn contributortype=\"A\">9780385424738</isbn><isbn contributortype=\"A\">9780385470810</isbn><isbn contributortype=\"A\">9780385472944</isbn><isbn contributortype=\"A\">9780385472951</isbn><isbn contributortype=\"A\">9780385490993</isbn><isbn contributortype=\"A\">9780385493802</isbn><isbn contributortype=\"A\">9780385497466</isbn><isbn contributortype=\"A\">9780385501200</isbn><isbn contributortype=\"A\">9780385503822</isbn><isbn contributortype=\"A\">9780385503839</isbn><isbn contributortype=\"A\">9780385508049</isbn><isbn contributortype=\"A\">9780385508414</isbn><isbn contributortype=\"A\">9780385510431</isbn><isbn contributortype=\"A\">9780385510448</isbn><isbn contributortype=\"A\">9780385510455</isbn><isbn contributortype=\"A\">9780385510462</isbn><isbn contributortype=\"A\">9780385511612</isbn><isbn contributortype=\"A\">9780385511971</isbn><isbn contributortype=\"A\">9780385515047</isbn><isbn contributortype=\"A\">9780385517232</isbn><isbn contributortype=\"A\">9780385517836</isbn><isbn contributortype=\"A\">9780385525008</isbn><isbn contributortype=\"A\">9780385526333</isbn><isbn contributortype=\"A\">9780385528030</isbn><isbn contributortype=\"A\">9780385528047</isbn><isbn contributortype=\"A\">9780385532457</isbn><isbn contributortype=\"A\">9780385534130</isbn><isbn contributortype=\"A\">9780385535137</isbn><isbn contributortype=\"A\">9780385535144</isbn><isbn contributortype=\"A\">9780385535250</isbn><isbn contributortype=\"A\">9780385536073</isbn><isbn contributortype=\"A\">9780385536080</isbn><isbn contributortype=\"A\">9780385536882</isbn><isbn contributortype=\"A\">9780385537131</isbn><isbn contributortype=\"A\">9780385537148</isbn><isbn contributortype=\"A\">9780385537926</isbn><isbn contributortype=\"A\">9780385537933</isbn><isbn contributortype=\"A\">9780385539166</isbn><isbn contributortype=\"A\">9780385539173</isbn><isbn contributortype=\"A\">9780385539432</isbn><isbn contributortype=\"A\">9780385539449</isbn><isbn contributortype=\"A\">9780385539456</isbn><isbn contributortype=\"A\">9780385541176</isbn><isbn contributortype=\"A\">9780385541183</isbn><isbn contributortype=\"A\">9780385541190</isbn><isbn contributortype=\"A\">9780385541206</isbn><isbn contributortype=\"A\">9780385541572</isbn><isbn contributortype=\"A\">9780385541923</isbn><isbn contributortype=\"A\">9780385542579</isbn><isbn contributortype=\"A\">9780385543026</isbn><isbn contributortype=\"A\">9780385543057</isbn><isbn contributortype=\"A\">9780385543064</isbn><isbn contributortype=\"A\">9780385544153</isbn><isbn contributortype=\"A\">9780385544160</isbn><isbn contributortype=\"A\">9780385544177</isbn><isbn contributortype=\"A\">9780399182174</isbn><isbn contributortype=\"A\">9780399187179</isbn><isbn contributortype=\"A\">9780399564994</isbn><isbn contributortype=\"A\">9780399565007</isbn><isbn contributortype=\"A\">9780399565014</isbn><isbn contributortype=\"A\">9780399565021</isbn><isbn contributortype=\"A\">9780399565038</isbn><isbn contributortype=\"A\">9780399565045</isbn><isbn contributortype=\"A\">9780399565137</isbn><isbn contributortype=\"A\">9780399565144</isbn><isbn contributortype=\"A\">9780399565151</isbn><isbn contributortype=\"A\">9780399565168</isbn><isbn contributortype=\"A\">9780399565182</isbn><isbn contributortype=\"A\">9780399565199</isbn><isbn contributortype=\"A\">9780399565205</isbn><isbn contributortype=\"A\">9780440211723</isbn><isbn contributortype=\"A\">9780440213529</isbn><isbn contributortype=\"A\">9780440214045</isbn><isbn contributortype=\"A\">9780440221470</isbn><isbn contributortype=\"A\">9780440221654</isbn><isbn contributortype=\"A\">9780440224761</isbn><isbn contributortype=\"A\">9780440236672</isbn><isbn contributortype=\"A\">9780440237228</isbn><isbn contributortype=\"A\">9780440241072</isbn><isbn contributortype=\"A\">9780440241539</isbn><isbn contributortype=\"A\">9780440241577</isbn><isbn contributortype=\"A\">9780440241584</isbn><isbn contributortype=\"A\">9780440243816</isbn><isbn contributortype=\"A\">9780440243823</isbn><isbn contributortype=\"A\">9780440244714</isbn><isbn contributortype=\"A\">9780440245117</isbn><isbn contributortype=\"A\">9780440245919</isbn><isbn contributortype=\"A\">9780440245926</isbn><isbn contributortype=\"A\">9780440245933</isbn><isbn contributortype=\"A\">9780440245940</isbn><isbn contributortype=\"A\">9780440245957</isbn><isbn contributortype=\"A\">9780440246022</isbn><isbn contributortype=\"A\">9780440246213</isbn><isbn contributortype=\"A\">9780440297031</isbn><isbn contributortype=\"A\">9780440422952</isbn><isbn contributortype=\"A\">9780440422969</isbn><isbn contributortype=\"A\">9780440422976</isbn><isbn contributortype=\"A\">9780449011010</isbn><isbn contributortype=\"A\">9780449011034</isbn><isbn contributortype=\"A\">9780449806913</isbn><isbn contributortype=\"A\">9780451486110</isbn><isbn contributortype=\"A\">9780451486127</isbn><isbn contributortype=\"A\">9780451486134</isbn><isbn contributortype=\"A\">9780451486141</isbn><isbn contributortype=\"A\">9780525423843</isbn><isbn contributortype=\"A\">9780525425571</isbn><isbn contributortype=\"A\">9780525425762</isbn><isbn contributortype=\"A\">9780525425779</isbn><isbn contributortype=\"A\">9780525426370</isbn><isbn contributortype=\"A\">9780525426387</isbn><isbn contributortype=\"A\">9780525426394</isbn><isbn contributortype=\"A\">9780525433347</isbn><isbn contributortype=\"A\">9780525435815</isbn><isbn contributortype=\"A\">9780525486176</isbn><isbn contributortype=\"A\">9780525492856</isbn><isbn contributortype=\"A\">9780525523253</isbn><isbn contributortype=\"A\">9780525523260</isbn><isbn contributortype=\"A\">9780525523277</isbn><isbn contributortype=\"A\">9780525523284</isbn><isbn contributortype=\"A\">9780525523307</isbn><isbn contributortype=\"A\">9780525527459</isbn><isbn contributortype=\"A\">9780525620938</isbn><isbn contributortype=\"A\">9780525634904</isbn><isbn contributortype=\"A\">9780525639251</isbn><isbn contributortype=\"A\">9780525639268</isbn><isbn contributortype=\"A\">9780525639275</isbn><isbn contributortype=\"A\">9780525639282</isbn><isbn contributortype=\"A\">9780525639299</isbn><isbn contributortype=\"A\">9780525639305</isbn><isbn contributortype=\"A\">9780525639312</isbn><isbn contributortype=\"A\">9780553386813</isbn><isbn contributortype=\"A\">9780553393484</isbn><isbn contributortype=\"A\">9780553393613</isbn><isbn contributortype=\"A\">9780553399813</isbn><isbn contributortype=\"A\">9780553399820</isbn><isbn contributortype=\"A\">9780553399837</isbn><isbn contributortype=\"A\">9780553399844</isbn><isbn contributortype=\"A\">9780553545258</isbn><isbn contributortype=\"A\">9780553750911</isbn><isbn contributortype=\"A\">9780553750928</isbn><isbn contributortype=\"A\">9780553750935</isbn><isbn contributortype=\"A\">9780553750942</isbn><isbn contributortype=\"A\">9780553750966</isbn><isbn contributortype=\"A\">9780553750973</isbn><isbn contributortype=\"A\">9780553753301</isbn><isbn contributortype=\"A\">9780553753578</isbn><isbn contributortype=\"A\">9780553753592</isbn><isbn contributortype=\"A\">9780553753677</isbn><isbn contributortype=\"A\">9780553753684</isbn><isbn contributortype=\"A\">9780553753707</isbn><isbn contributortype=\"A\">9780553754315</isbn><isbn contributortype=\"A\">9780553754384</isbn><isbn contributortype=\"A\">9780553754414</isbn><isbn contributortype=\"A\">9780553754506</isbn><isbn contributortype=\"A\">9780553754704</isbn><isbn contributortype=\"A\">9780553755190</isbn><isbn contributortype=\"A\">9780553755503</isbn><isbn contributortype=\"A\">9780553841275</isbn><isbn contributortype=\"A\">9780553841398</isbn><isbn contributortype=\"A\">9780698147973</isbn><isbn contributortype=\"A\">9780736688574</isbn><isbn contributortype=\"A\">9780736688604</isbn><isbn contributortype=\"A\">9780736689045</isbn><isbn contributortype=\"A\">9780736689069</isbn><isbn contributortype=\"A\">9780736689083</isbn><isbn contributortype=\"A\">9780736689106</isbn><isbn contributortype=\"A\">9780736689113</isbn><isbn contributortype=\"A\">9780736689120</isbn><isbn contributortype=\"A\">9780736689137</isbn><isbn contributortype=\"A\">9780736689434</isbn><isbn contributortype=\"A\">9780736689892</isbn><isbn contributortype=\"4 A\">9780736696593</isbn><isbn contributortype=\"A\">9780736697408</isbn><isbn contributortype=\"A\">9780739302231</isbn><isbn contributortype=\"A\">9780739302255</isbn><isbn contributortype=\"A\">9780739309025</isbn><isbn contributortype=\"A\">9780739309032</isbn><isbn contributortype=\"4 A\">9780739310175</isbn><isbn contributortype=\"A\">9780739312186</isbn><isbn contributortype=\"A\">9780739312650</isbn><isbn contributortype=\"A\">9780739316450</isbn><isbn contributortype=\"A\">9780739316481</isbn><isbn contributortype=\"A\">9780739316511</isbn><isbn contributortype=\"A\">9780739316542</isbn><isbn contributortype=\"A\">9780739323588</isbn><isbn contributortype=\"A\">9780739324202</isbn><isbn contributortype=\"A\">9780739325650</isbn><isbn contributortype=\"A\">9780739333020</isbn><isbn contributortype=\"A\">9780739333051</isbn><isbn contributortype=\"A\">9780739333303</isbn><isbn contributortype=\"A\">9780739334027</isbn><isbn contributortype=\"A\">9780739340493</isbn><isbn contributortype=\"A\">9780739342787</isbn><isbn contributortype=\"A\">9780739342800</isbn><isbn contributortype=\"A\">9780739343821</isbn><isbn contributortype=\"A\">9780739346853</isbn><isbn contributortype=\"A\">9780739357798</isbn><isbn contributortype=\"A\">9780739359105</isbn><isbn contributortype=\"A\">9780739365670</isbn><isbn contributortype=\"A\">9780739366202</isbn><isbn contributortype=\"A\">9780739376188</isbn><isbn contributortype=\"A\">9780739376201</isbn><isbn contributortype=\"A\">9780739377383</isbn><isbn contributortype=\"A\">9780739378335</isbn><isbn contributortype=\"A\">9780739378342</isbn><isbn contributortype=\"A\">9780739382141</isbn><isbn contributortype=\"A\">9780739383193</isbn><isbn contributortype=\"A\">9780804121156</isbn><isbn contributortype=\"A\">9780804148931</isbn><isbn contributortype=\"A\">9780804164030</isbn><isbn contributortype=\"A\">9780804164610</isbn><isbn contributortype=\"A\">9780804194792</isbn><isbn contributortype=\"A\">9780812999051</isbn><isbn contributortype=\"A\">9780812999266</isbn><isbn contributortype=\"A\">9781101404591</isbn><isbn contributortype=\"A\">9781101526293</isbn><isbn contributortype=\"A\">9781101563168</isbn><isbn contributortype=\"A\">9781101567739</isbn><isbn contributortype=\"A\">9781101567753</isbn><isbn contributortype=\"A\">9781101585498</isbn><isbn contributortype=\"A\">9781101593516</isbn><isbn contributortype=\"A\">9781101616956</isbn><isbn contributortype=\"A\">9781101872253</isbn><isbn contributortype=\"A\">9781101873137</isbn><isbn contributortype=\"A\">9781101873144</isbn><isbn contributortype=\"A\">9781101910078</isbn><isbn contributortype=\"A\">9781101910764</isbn><isbn contributortype=\"A\">9781101915202</isbn><isbn contributortype=\"A\">9781101915219</isbn><isbn contributortype=\"A\">9781101915226</isbn><isbn contributortype=\"A\">9781101915233</isbn><isbn contributortype=\"A\">9781101921852</isbn><isbn contributortype=\"A\">9781101964873</isbn><isbn contributortype=\"A\">9781101965863</isbn><isbn contributortype=\"A\">9781101967669</isbn><isbn contributortype=\"A\">9781101967676</isbn><isbn contributortype=\"A\">9781101967683</isbn><isbn contributortype=\"A\">9781101967690</isbn><isbn contributortype=\"A\">9781101967706</isbn><isbn contributortype=\"A\">9781101977491</isbn><isbn contributortype=\"A\">9781101978719</isbn><isbn contributortype=\"A\">9781415916469</isbn><isbn contributortype=\"A\">9781415920664</isbn><isbn contributortype=\"A\">9781415920848</isbn><isbn contributortype=\"A\">9781415920855</isbn><isbn contributortype=\"A\">9781415920862</isbn><isbn contributortype=\"A\">9781415933077</isbn><isbn contributortype=\"A\">9781415943588</isbn><isbn contributortype=\"A\">9781415943595</isbn><isbn contributortype=\"A\">9781415945322</isbn><isbn contributortype=\"A\">9781415945339</isbn><isbn contributortype=\"A\">9781415945346</isbn><isbn contributortype=\"A\">9781415945353</isbn><isbn contributortype=\"4 A\">9781415945391</isbn><isbn contributortype=\"A\">9781415946633</isbn><isbn contributortype=\"A\">9781415946640</isbn><isbn contributortype=\"A\">9781415947548</isbn><isbn contributortype=\"A\">9781415947555</isbn><isbn contributortype=\"A\">9781415950418</isbn><isbn contributortype=\"A\">9781415950753</isbn><isbn contributortype=\"A\">9781415950845</isbn><isbn contributortype=\"A\">9781415950852</isbn><isbn contributortype=\"A\">9781415951347</isbn><isbn contributortype=\"A\">9781415951354</isbn><isbn contributortype=\"A\">9781415951361</isbn><isbn contributortype=\"A\">9781415951378</isbn><isbn contributortype=\"A\">9781415958902</isbn><isbn contributortype=\"A\">9781524703721</isbn><isbn contributortype=\"A\">9781524703820</isbn><isbn contributortype=\"A\">9781524721077</isbn><isbn contributortype=\"A\">9781524721084</isbn><isbn contributortype=\"A\">9781524754730</isbn><isbn contributortype=\"A\">9781524777463</isbn><isbn contributortype=\"A\">9781524777470</isbn><isbn contributortype=\"A\">9781524797140</isbn><isbn contributortype=\"A\">9781524797157</isbn><isbn contributortype=\"A\">9781524798840</isbn><isbn contributortype=\"A\">9781611760644</isbn><isbn contributortype=\"A\">9781611761580</isbn><isbn contributortype=\"A\">9781984819581</isbn><isbn contributortype=\"A\">9781984833167</isbn><isbn contributortype=\"A\">9781984833174</isbn><isbn contributortype=\"A\">9783002012523</isbn><isbn contributortype=\"A\">9783002013261</isbn><isbn contributortype=\"A\">9783002019775</isbn><isbn contributortype=\"A\">9783002020450</isbn><isbn contributortype=\"A\">9783002023512</isbn></titles><lastinitial>g</lastinitial><photocredit>Â© Charlotte Graham</photocredit><photodate>2018</photodate><spotlight>John Grisham is the author of thirty novels, one work of nonfiction, a collection of stories, and six novels for young readers.</spotlight><works><works>72131</works><works>72132</works><works>72133</works><works>72134</works><works>72134</works><works>72136</works><works>72140</works><works>72142</works><works>72143</works><works>72144</works><works>72145</works><works>72148</works><works>72149</works><works>72150</works><works>72151</works><works>72152</works><works>72153</works><works>72154</works><works>72155</works><works>72156</works><works>72157</works><works>72158</works><works>72159</works><works>72160</works><works>72161</works><works>72162</works><works>72163</works><works>72164</works><works>72165</works><works>72166</works><works>72167</works><works>72168</works><works>72169</works><works>72170</works><works>72171</works><works>72172</works><works>72173</works><works>72174</works><works>72175</works><works>72176</works><works>72177</works><works>72179</works><works>72180</works><works>72186</works><works>72187</works><works>196329</works><works>196907</works><works>196944</works><works>196944</works><works>213068</works><works>213069</works><works>219074</works><works>220049</works><works>223785</works><works>223786</works><works>224871</works><works>225996</works><works>231955</works><works>234636</works><works>234637</works><works>241089</works><works>243719</works><works>247089</works><works>249656</works><works>250469</works><works>286136</works><works>308211</works><works>308212</works><works>309929</works><works>309931</works><works>314536</works><works>314537</works><works>350993</works><works>354130</works><works>529574</works><works>535021</works><works>535022</works><works>547015</works><works>553089</works><works>554117</works><works>561414</works><works>561693</works><works>586399</works></works></author><author uri=\"https://reststop.randomhouse.com/resources/authors/109824\"><approved>X</approved><authordisplay>John Grisham</authordisplay><authorfirst>John</authorfirst><authorfirstlc>john</authorfirstlc><authorid>109824</authorid><authorlast>Grisham</authorlast><authorlastfirst>GRISHAM, JOHN</authorlastfirst><authorlastlc>grisham</authorlastlc><titles/><lastinitial>g</lastinitial><spotlight>&lt;b&gt;John Grisham&lt;/b&gt;&amp;#160;(Jonesboro, Arkansas, 1955) se dedic&amp;oacute; a la abogac&amp;iacute;a antes de convertirse en un escritor de &amp;eacute;xito mundial. Desde que public&amp;oacute; su primera novela en 1988, ha escrito casi una por a&amp;ntilde;o. Todas, sin excepci&amp;oacute;n, han sido best sellers y muchas se han convertido en excelentes guiones cinematogr&amp;aacute;ficos. Aparte de las novelas, es tambi&amp;eacute;n autor de los relatos reunidos bajo el t&amp;iacute;tulo&amp;#160;&lt;i&gt;Siete vidas&lt;/i&gt;, de un libro de no ficci&amp;oacute;n,&amp;#160;&lt;i&gt;El proyecto Williamson: una historia real&lt;/i&gt;, as&amp;iacute; como de una serie de novelas juveniles sobre el joven abogado y detective Theodore Boone. John Grisham es directivo del Innocence Project en Nueva York y Mississippi, una organizaci&amp;oacute;n dedicada a la reforma penal y a la exoneraci&amp;oacute;n, a trav&amp;eacute;s de pruebas de ADN, de individuos inocentes condenados por asesinato. Vive con su esposa y sus dos hijos entre Virginia y Mississippi.</spotlight><works><works>72135</works><works>72137</works><works>72138</works><works>72141</works><works>72142</works><works>72178</works></works></author><author uri=\"https://reststop.randomhouse.com/resources/authors/289155\"><approved>X</approved><authordisplay>John Grisham</authordisplay><authorfirst>John</authorfirst><authorfirstlc>john</authorfirstlc><authorid>289155</authorid><authorlast>Grisham</authorlast><authorlastfirst>GRISHAM, JOHN</authorlastfirst><authorlastlc>grisham</authorlastlc><titles/><lastinitial>g</lastinitial><works/></author><author uri=\"https://reststop.randomhouse.com/resources/authors/2069683\"><approved>X</approved><authordisplay>John Grisham</authordisplay><authorfirst>John</authorfirst><authorfirstlc>john</authorfirstlc><authorid>2069683</authorid><authorlast>Grisham</authorlast><authorlastfirst>GRISHAM, JOHN</authorlastfirst><authorlastlc>grisham</authorlastlc><titles/><lastinitial>g</lastinitial><works/></author><author uri=\"https://reststop.randomhouse.com/resources/authors/2172732\"><approved>X</approved><authordisplay>John Grisham</authordisplay><authorfirst>John</authorfirst><authorfirstlc>john</authorfirstlc><authorid>2172732</authorid><authorlast>Grisham</authorlast><authorlastfirst>GRISHAM, JOHN</authorlastfirst><authorlastlc>grisham</authorlastlc><titles><isbn contributortype=\"A\">9786073109079</isbn><isbn contributortype=\"A\">9786073112062</isbn><isbn contributortype=\"A\">9786073113809</isbn><isbn contributortype=\"A\">9786073121019</isbn><isbn contributortype=\"A\">9786073130400</isbn><isbn contributortype=\"A\">9786073159166</isbn><isbn contributortype=\"A\">9786074298697</isbn><isbn contributortype=\"A\">9788483469941</isbn><isbn contributortype=\"A\">9788490324349</isbn><isbn contributortype=\"A\">9788490327371</isbn><isbn contributortype=\"A\">9788490434642</isbn><isbn contributortype=\"A\">9788490437209</isbn></titles><lastinitial>g</lastinitial><works><works>72142</works><works>228694</works><works>237477</works><works>243185</works><works>247720</works><works>247753</works><works>247754</works><works>249753</works><works>577948</works><works>579120</works><works>579173</works><works>586218</works><works>589663</works></works></author></authors>\n"
     ]
    }
   ],
   "source": [
    "request('https://reststop.randomhouse.com/resources/authors?lastName=Grisham')\n",
    "    .then((res) => {\n",
    "        console.log('list of books from Grisham', res);\n",
    "    })\n",
    "    .catch((err) => {\n",
    "        console.log('error trying to access API', err);\n",
    "    });"
   ]
  },
  {
   "cell_type": "markdown",
   "metadata": {},
   "source": [
    "If you only have a callback-based function, such as any function from Node's core library, you can get a promise-based version of it by using **util.promisify()**:"
   ]
  },
  {
   "cell_type": "code",
   "execution_count": 88,
   "metadata": {},
   "outputs": [
    {
     "name": "stdout",
     "output_type": "stream",
     "text": [
      "<Buffer 7b 0a 20 20 22 6e 61 6d 65 22 3a 20 22 61 64 76 5f 6a 73 22 2c 0a 20 20 22 76 65 72 73 69 6f 6e 22 3a 20 22 31 2e 30 2e 30 22 2c 0a 20 20 22 64 65 73 ... >\n"
     ]
    }
   ],
   "source": [
    "const { promisify } = require('util');\n",
    "const { readFile } = require('fs');\n",
    "\n",
    "const readFileP = promisify(readFile);\n",
    "\n",
    "readFileP('./package.json')\n",
    "    .then((res) => {\n",
    "        console.log(res);\n",
    "    });"
   ]
  },
  {
   "cell_type": "code",
   "execution_count": 94,
   "metadata": {},
   "outputs": [
    {
     "data": {
      "text/plain": [
       "'{\\n  \"name\": \"adv_js\",\\n  \"version\": \"1.0.0\",\\n  \"description\": \"\",\\n  \"main\": \"1-format.js\",\\n  \"scripts\": {\\n    \"test\": \"echo \\\\\"Error: no test specified\\\\\" && exit 1\"\\n  },\\n  \"author\": \"\",\\n  \"license\": \"ISC\",\\n  \"dependencies\": {\\n    \"ramda\": \"^0.25.0\",\\n    \"request\": \"^2.88.0\",\\n    \"request-promise\": \"^4.2.2\"\\n  }\\n}\\n'"
      ]
     },
     "execution_count": 94,
     "metadata": {},
     "output_type": "execute_result"
    }
   ],
   "source": [
    "readFileP('./package.json')\n",
    "    .then((res) => res.toString('utf-8'));"
   ]
  },
  {
   "cell_type": "code",
   "execution_count": 101,
   "metadata": {},
   "outputs": [
    {
     "data": {
      "text/plain": [
       "{ name: 'adv_js',\n",
       "  version: '1.0.0',\n",
       "  description: '',\n",
       "  main: '1-format.js',\n",
       "  scripts: { test: 'echo \"Error: no test specified\" && exit 1' },\n",
       "  author: '',\n",
       "  license: 'ISC',\n",
       "  dependencies: \n",
       "   { ramda: '^0.25.0',\n",
       "     request: '^2.88.0',\n",
       "     'request-promise': '^4.2.2' } }"
      ]
     },
     "execution_count": 101,
     "metadata": {},
     "output_type": "execute_result"
    }
   ],
   "source": [
    "readFileP('./package.json')\n",
    "    .then((buffer) => buffer.toString('utf-8'))\n",
    "    .then((json) => JSON.parse(json)) // same as .then(JSON.parse)"
   ]
  },
  {
   "cell_type": "markdown",
   "metadata": {},
   "source": [
    "Last but not least, you can start a promise chain using `Promise.resolve(value)`, which returns a promise resolving to `value`:"
   ]
  },
  {
   "cell_type": "code",
   "execution_count": 232,
   "metadata": {},
   "outputs": [],
   "source": [
    "const R = require('ramda');"
   ]
  },
  {
   "cell_type": "code",
   "execution_count": 108,
   "metadata": {},
   "outputs": [],
   "source": [
    "const numbers = [0, 4, 2, 0, 1, 5, 3];"
   ]
  },
  {
   "cell_type": "code",
   "execution_count": 109,
   "metadata": {},
   "outputs": [
    {
     "data": {
      "text/plain": [
       "[ 4, 5, 3 ]"
      ]
     },
     "execution_count": 109,
     "metadata": {},
     "output_type": "execute_result"
    }
   ],
   "source": [
    "Promise.resolve(numbers)\n",
    "    .then(R.filter((number) => number > 2));"
   ]
  },
  {
   "cell_type": "markdown",
   "metadata": {},
   "source": [
    "This is especially useful when you then need to apply asynchronous functions along the way:"
   ]
  },
  {
   "cell_type": "code",
   "execution_count": 230,
   "metadata": {},
   "outputs": [],
   "source": [
    "const request = require('request-promise');"
   ]
  },
  {
   "cell_type": "code",
   "execution_count": 130,
   "metadata": {},
   "outputs": [
    {
     "data": {
      "text/plain": [
       "[ '4 is the number of chambers the mammalian heart consists of.',\n",
       "  '5 is the number of permanent members with veto power on the United Nations Security Council.',\n",
       "  '3 is number of performers in a trio.' ]"
      ]
     },
     "execution_count": 130,
     "metadata": {},
     "output_type": "execute_result"
    }
   ],
   "source": [
    "Promise.resolve(numbers)\n",
    "    .then(R.filter((number) => number > 2))\n",
    "    .then(R.map((number) => request(`http://numbersapi.com/${number}`)))\n",
    "    .then((promises) => Promise.all(promises))\n",
    "    .catch(console.log);"
   ]
  },
  {
   "cell_type": "markdown",
   "metadata": {},
   "source": [
    "### Returning a value from a `then`\n",
    "\n",
    "Just return it!"
   ]
  },
  {
   "cell_type": "code",
   "execution_count": 137,
   "metadata": {},
   "outputs": [
    {
     "data": {
      "text/plain": [
       "Promise {\n",
       "  _bitField: 0,\n",
       "  _fulfillmentHandler0: undefined,\n",
       "  _rejectionHandler0: undefined,\n",
       "  _promise0: undefined,\n",
       "  _receiver0: undefined,\n",
       "  _cancellationParent: \n",
       "   Promise {\n",
       "     _bitField: 1,\n",
       "     _fulfillmentHandler0: undefined,\n",
       "     _rejectionHandler0: [Function: bound log],\n",
       "     _promise0: [Circular],\n",
       "     _receiver0: undefined,\n",
       "     _cancellationParent: \n",
       "      Promise {\n",
       "        _bitField: 1,\n",
       "        _fulfillmentHandler0: [Function: bound log],\n",
       "        _rejectionHandler0: undefined,\n",
       "        _promise0: [Circular],\n",
       "        _receiver0: undefined,\n",
       "        _cancellationParent: [Object],\n",
       "        _branchesRemainingToCancel: 1 },\n",
       "     _branchesRemainingToCancel: 1 } }"
      ]
     },
     "execution_count": 137,
     "metadata": {},
     "output_type": "execute_result"
    },
    {
     "name": "stdout",
     "output_type": "stream",
     "text": [
      "The fact of the day about number 23 is that 23 is the number of chromosomes normal human sex cells have.\n"
     ]
    }
   ],
   "source": [
    "request(`http://numbersapi.com/23`)\n",
    "    .then((factoid) => `The fact of the day about number 23 is that ${factoid}`)\n",
    "    .then(console.log)\n",
    "    .catch(console.log)"
   ]
  },
  {
   "cell_type": "markdown",
   "metadata": {},
   "source": [
    "### Resolving a promise from inside a `then`\n",
    "\n",
    "Just return it!"
   ]
  },
  {
   "cell_type": "code",
   "execution_count": 233,
   "metadata": {},
   "outputs": [
    {
     "data": {
      "text/plain": [
       "Promise {\n",
       "  _bitField: 0,\n",
       "  _fulfillmentHandler0: undefined,\n",
       "  _rejectionHandler0: undefined,\n",
       "  _promise0: undefined,\n",
       "  _receiver0: undefined,\n",
       "  _cancellationParent: \n",
       "   Promise {\n",
       "     _bitField: 1,\n",
       "     _fulfillmentHandler0: undefined,\n",
       "     _rejectionHandler0: [Function: bound log],\n",
       "     _promise0: [Circular],\n",
       "     _receiver0: undefined,\n",
       "     _cancellationParent: \n",
       "      Promise {\n",
       "        _bitField: 1,\n",
       "        _fulfillmentHandler0: [Function: bound log],\n",
       "        _rejectionHandler0: undefined,\n",
       "        _promise0: [Circular],\n",
       "        _receiver0: undefined,\n",
       "        _cancellationParent: [Object],\n",
       "        _branchesRemainingToCancel: 1 },\n",
       "     _branchesRemainingToCancel: 1 } }"
      ]
     },
     "execution_count": 233,
     "metadata": {},
     "output_type": "execute_result"
    },
    {
     "name": "stdout",
     "output_type": "stream",
     "text": [
      "{ subject_type: 'subject',\n",
      "  name: 'general relativity (physics)',\n",
      "  key: '/subjects/general_relativity_(physics)',\n",
      "  ebook_count: 303,\n",
      "  works: \n",
      "   [ { printdisabled: true,\n",
      "       cover_id: 8245344,\n",
      "       ia_collection: [Array],\n",
      "       has_fulltext: true,\n",
      "       edition_count: 48,\n",
      "       checked_out: false,\n",
      "       title: 'Über die spezielle und die allgemeine Relativitätstheorie',\n",
      "       public_scan: true,\n",
      "       cover_edition_key: 'OL18792406M',\n",
      "       lendinglibrary: false,\n",
      "       lending_edition: 'OL18792406M',\n",
      "       first_publish_year: null,\n",
      "       key: '/works/OL1214255W',\n",
      "       authors: [Array],\n",
      "       ia: 'relativityspeci00lawsgoog',\n",
      "       lending_identifier: 'relativityspecia00eins_0',\n",
      "       subject: [Array] },\n",
      "     { printdisabled: true,\n",
      "       cover_id: 333849,\n",
      "       ia_collection: [Array],\n",
      "       has_fulltext: true,\n",
      "       edition_count: 15,\n",
      "       checked_out: false,\n",
      "       title: 'Space, time and gravitation',\n",
      "       public_scan: true,\n",
      "       cover_edition_key: 'OL2738589M',\n",
      "       lendinglibrary: false,\n",
      "       lending_edition: 'OL5775574M',\n",
      "       first_publish_year: null,\n",
      "       key: '/works/OL1107463W',\n",
      "       authors: [Array],\n",
      "       ia: 'spacetimegravita00eddi',\n",
      "       lending_identifier: 'spacetimegravit00eddi',\n",
      "       subject: [Array] },\n",
      "     { printdisabled: false,\n",
      "       cover_id: null,\n",
      "       ia_collection: [],\n",
      "       has_fulltext: false,\n",
      "       edition_count: 9,\n",
      "       checked_out: false,\n",
      "       title: 'Relativity',\n",
      "       public_scan: false,\n",
      "       lendinglibrary: false,\n",
      "       lending_edition: '',\n",
      "       first_publish_year: null,\n",
      "       key: '/works/OL1359964W',\n",
      "       authors: [Array],\n",
      "       ia: null,\n",
      "       lending_identifier: '',\n",
      "       subject: [Array] },\n",
      "     { printdisabled: true,\n",
      "       cover_id: 333145,\n",
      "       ia_collection: [Array],\n",
      "       has_fulltext: true,\n",
      "       edition_count: 9,\n",
      "       checked_out: false,\n",
      "       title: 'Space-time structure',\n",
      "       public_scan: false,\n",
      "       cover_edition_key: 'OL3025325M',\n",
      "       lendinglibrary: false,\n",
      "       lending_edition: '',\n",
      "       first_publish_year: null,\n",
      "       key: '/works/OL1210531W',\n",
      "       authors: [Array],\n",
      "       ia: 'spacetimestructu00schr',\n",
      "       lending_identifier: '',\n",
      "       subject: [Array] },\n",
      "     { printdisabled: true,\n",
      "       cover_id: 169007,\n",
      "       ia_collection: [Array],\n",
      "       has_fulltext: true,\n",
      "       edition_count: 5,\n",
      "       checked_out: false,\n",
      "       title: 'Einstein\\'s Unfinished Symphony',\n",
      "       public_scan: false,\n",
      "       cover_edition_key: 'OL9362995M',\n",
      "       lendinglibrary: false,\n",
      "       lending_edition: '',\n",
      "       first_publish_year: null,\n",
      "       key: '/works/OL4321990W',\n",
      "       authors: [Array],\n",
      "       ia: 'einsteinsunfinis00bart_0',\n",
      "       lending_identifier: '',\n",
      "       subject: [Array] },\n",
      "     { printdisabled: true,\n",
      "       cover_id: 2236943,\n",
      "       ia_collection: [Array],\n",
      "       has_fulltext: true,\n",
      "       edition_count: 4,\n",
      "       checked_out: false,\n",
      "       title: 'Classical geometries in modern contexts',\n",
      "       public_scan: false,\n",
      "       cover_edition_key: 'OL9860648M',\n",
      "       lendinglibrary: false,\n",
      "       lending_edition: '',\n",
      "       first_publish_year: null,\n",
      "       key: '/works/OL3092993W',\n",
      "       authors: [Array],\n",
      "       ia: 'classicalgeometr00benz_949',\n",
      "       lending_identifier: '',\n",
      "       subject: [Array] },\n",
      "     { printdisabled: false,\n",
      "       cover_id: null,\n",
      "       ia_collection: [],\n",
      "       has_fulltext: false,\n",
      "       edition_count: 4,\n",
      "       checked_out: false,\n",
      "       title: 'The n-body problem in general relativity',\n",
      "       public_scan: false,\n",
      "       lendinglibrary: false,\n",
      "       lending_edition: '',\n",
      "       first_publish_year: null,\n",
      "       key: '/works/OL1344876W',\n",
      "       authors: [Array],\n",
      "       ia: null,\n",
      "       lending_identifier: '',\n",
      "       subject: [Array] },\n",
      "     { printdisabled: true,\n",
      "       cover_id: 4649783,\n",
      "       ia_collection: [Array],\n",
      "       has_fulltext: true,\n",
      "       edition_count: 4,\n",
      "       checked_out: false,\n",
      "       title: 'Parallel Universes',\n",
      "       public_scan: false,\n",
      "       cover_edition_key: 'OL7661413M',\n",
      "       lendinglibrary: false,\n",
      "       lending_edition: '',\n",
      "       first_publish_year: null,\n",
      "       key: '/works/OL2018949W',\n",
      "       authors: [Array],\n",
      "       ia: 'parallelunivers000fred',\n",
      "       lending_identifier: '',\n",
      "       subject: [Array] },\n",
      "     { printdisabled: true,\n",
      "       cover_id: 335759,\n",
      "       ia_collection: [Array],\n",
      "       has_fulltext: true,\n",
      "       edition_count: 4,\n",
      "       checked_out: true,\n",
      "       title: 'Allgemeine Relativitätstheorie',\n",
      "       public_scan: false,\n",
      "       cover_edition_key: 'OL2200741M',\n",
      "       lendinglibrary: false,\n",
      "       lending_edition: 'OL4264242M',\n",
      "       first_publish_year: null,\n",
      "       key: '/works/OL4647383W',\n",
      "       authors: [Array],\n",
      "       ia: 'generalrelativit00ste_epp',\n",
      "       lending_identifier: 'generalrelativit00ste_epp',\n",
      "       subject: [Array] },\n",
      "     { printdisabled: true,\n",
      "       cover_id: 8234295,\n",
      "       ia_collection: [Array],\n",
      "       has_fulltext: true,\n",
      "       edition_count: 4,\n",
      "       checked_out: false,\n",
      "       title: 'Reinventing Gravity',\n",
      "       public_scan: false,\n",
      "       cover_edition_key: 'OL18895951M',\n",
      "       lendinglibrary: false,\n",
      "       lending_edition: '',\n",
      "       first_publish_year: null,\n",
      "       key: '/works/OL9302562W',\n",
      "       authors: [Array],\n",
      "       ia: 'reinventinggravi00moff',\n",
      "       lending_identifier: '',\n",
      "       subject: [Array] },\n",
      "     { printdisabled: false,\n",
      "       cover_id: null,\n",
      "       ia_collection: [],\n",
      "       has_fulltext: false,\n",
      "       edition_count: 3,\n",
      "       checked_out: false,\n",
      "       title: 'Lectures in Relativity and Gravitation',\n",
      "       public_scan: false,\n",
      "       lendinglibrary: false,\n",
      "       lending_edition: '',\n",
      "       first_publish_year: null,\n",
      "       key: '/works/OL285866W',\n",
      "       authors: [Array],\n",
      "       ia: null,\n",
      "       lending_identifier: '',\n",
      "       subject: [Array] },\n",
      "     { printdisabled: false,\n",
      "       cover_id: 1192911,\n",
      "       ia_collection: [],\n",
      "       has_fulltext: false,\n",
      "       edition_count: 3,\n",
      "       checked_out: false,\n",
      "       title: 'Compact Stars',\n",
      "       public_scan: false,\n",
      "       cover_edition_key: 'OL993220M',\n",
      "       lendinglibrary: false,\n",
      "       lending_edition: '',\n",
      "       first_publish_year: null,\n",
      "       key: '/works/OL3290286W',\n",
      "       authors: [Array],\n",
      "       ia: null,\n",
      "       lending_identifier: '',\n",
      "       subject: [Array] } ],\n",
      "  work_count: 303 }\n"
     ]
    }
   ],
   "source": [
    "request(`https://openlibrary.org/people/george08/lists/OL97L/seeds.json`)\n",
    "    .then(JSON.parse)\n",
    "    .then((listInfo) => listInfo.entries)\n",
    "    .then(R.filter((entry) => entry.type === 'subject'))\n",
    "    .then((subjects) => subjects[0].full_url)\n",
    "    .then((subjectUrl) => {\n",
    "        const nestedPromise = request(`https://openlibrary.org${subjectUrl}.json`);\n",
    "        return nestedPromise;\n",
    "    })\n",
    "    .then(JSON.parse)\n",
    "    .then(console.log)\n",
    "    .catch(console.log)"
   ]
  },
  {
   "cell_type": "markdown",
   "metadata": {},
   "source": [
    "### Promise.all()\n",
    "\n",
    "What if I must pass on multiple values? **Just wrap them in an array**"
   ]
  },
  {
   "cell_type": "code",
   "execution_count": 236,
   "metadata": {},
   "outputs": [
    {
     "name": "stdout",
     "output_type": "stream",
     "text": [
      "[ 'Stefano', 'Butera' ]\n"
     ]
    }
   ],
   "source": [
    "Promise.resolve()\n",
    "    .then(() => ['Stefano', 'Butera'])\n",
    "    .then((res) => console.log(res))\n",
    "    .catch(console.log)"
   ]
  },
  {
   "cell_type": "markdown",
   "metadata": {},
   "source": [
    "You can also destructure the array to improve readability:"
   ]
  },
  {
   "cell_type": "code",
   "execution_count": 235,
   "metadata": {},
   "outputs": [
    {
     "name": "stdout",
     "output_type": "stream",
     "text": [
      "first name:  Stefano\n",
      "last name:  Butera\n"
     ]
    }
   ],
   "source": [
    "Promise.resolve()\n",
    "    .then(() => ['Stefano', 'Butera'])\n",
    "    .then(([firstName, lastName]) => {\n",
    "        console.log('first name: ', firstName);\n",
    "        console.log('last name: ', lastName);\n",
    "    })\n",
    "    .catch(console.log)"
   ]
  },
  {
   "cell_type": "markdown",
   "metadata": {},
   "source": [
    "What if I must also pass on multiple promises or mixed variables and promises?\n",
    "In this case you can't just wrap them in an array, as the promises would be passed on **unresolved**:"
   ]
  },
  {
   "cell_type": "code",
   "execution_count": 237,
   "metadata": {},
   "outputs": [
    {
     "name": "stdout",
     "output_type": "stream",
     "text": [
      "number:  42\n",
      "factoid:  Request {\n",
      "  domain: null,\n",
      "  _events: \n",
      "   { error: [Function: bound ],\n",
      "     complete: [Function: bound ],\n",
      "     pipe: [Function] },\n",
      "  _eventsCount: 3,\n",
      "  _maxListeners: undefined,\n",
      "  uri: \n",
      "   Url {\n",
      "     protocol: 'http:',\n",
      "     slashes: true,\n",
      "     auth: null,\n",
      "     host: 'numbersapi.com',\n",
      "     port: 80,\n",
      "     hostname: 'numbersapi.com',\n",
      "     hash: null,\n",
      "     search: null,\n",
      "     query: null,\n",
      "     pathname: '/42',\n",
      "     path: '/42',\n",
      "     href: 'http://numbersapi.com/42' },\n",
      "  readable: true,\n",
      "  writable: true,\n",
      "  _qs: \n",
      "   Querystring {\n",
      "     request: [Circular],\n",
      "     lib: { formats: [Object], parse: [Function], stringify: [Function] },\n",
      "     useQuerystring: undefined,\n",
      "     parseOptions: {},\n",
      "     stringifyOptions: {} },\n",
      "  _auth: \n",
      "   Auth {\n",
      "     request: [Circular],\n",
      "     hasAuth: false,\n",
      "     sentAuth: false,\n",
      "     bearerToken: null,\n",
      "     user: null,\n",
      "     pass: null },\n",
      "  _oauth: OAuth { request: [Circular], params: null },\n",
      "  _multipart: \n",
      "   Multipart {\n",
      "     request: [Circular],\n",
      "     boundary: '805d2154-94af-4145-9f19-cc7e0bd14091',\n",
      "     chunked: false,\n",
      "     body: null },\n",
      "  _redirect: \n",
      "   Redirect {\n",
      "     request: [Circular],\n",
      "     followRedirect: true,\n",
      "     followRedirects: true,\n",
      "     followAllRedirects: false,\n",
      "     followOriginalHttpMethod: false,\n",
      "     allowRedirect: [Function],\n",
      "     maxRedirects: 10,\n",
      "     redirects: [],\n",
      "     redirectsFollowed: 0,\n",
      "     removeRefererHeader: false },\n",
      "  _tunnel: \n",
      "   Tunnel {\n",
      "     request: [Circular],\n",
      "     proxyHeaderWhiteList: \n",
      "      [ 'accept',\n",
      "        'accept-charset',\n",
      "        'accept-encoding',\n",
      "        'accept-language',\n",
      "        'accept-ranges',\n",
      "        'cache-control',\n",
      "        'content-encoding',\n",
      "        'content-language',\n",
      "        'content-location',\n",
      "        'content-md5',\n",
      "        'content-range',\n",
      "        'content-type',\n",
      "        'connection',\n",
      "        'date',\n",
      "        'expect',\n",
      "        'max-forwards',\n",
      "        'pragma',\n",
      "        'referer',\n",
      "        'te',\n",
      "        'user-agent',\n",
      "        'via' ],\n",
      "     proxyHeaderExclusiveList: [] },\n",
      "  _rp_resolve: [Function],\n",
      "  _rp_reject: [Function],\n",
      "  _rp_promise: \n",
      "   Promise {\n",
      "     _bitField: 0,\n",
      "     _fulfillmentHandler0: undefined,\n",
      "     _rejectionHandler0: undefined,\n",
      "     _promise0: undefined,\n",
      "     _receiver0: undefined,\n",
      "     _onCancelField: [Function] },\n",
      "  _rp_callbackOrig: undefined,\n",
      "  callback: [Function],\n",
      "  _rp_options: \n",
      "   { uri: 'http://numbersapi.com/42',\n",
      "     callback: [Function: RP$callback],\n",
      "     transform: undefined,\n",
      "     simple: true,\n",
      "     resolveWithFullResponse: false,\n",
      "     transform2xxOnly: false },\n",
      "  headers: { host: 'numbersapi.com' },\n",
      "  setHeader: [Function],\n",
      "  hasHeader: [Function],\n",
      "  getHeader: [Function],\n",
      "  removeHeader: [Function],\n",
      "  method: 'GET',\n",
      "  localAddress: undefined,\n",
      "  pool: {},\n",
      "  dests: [],\n",
      "  __isRequestRequest: true,\n",
      "  _callback: [Function: RP$callback],\n",
      "  proxy: null,\n",
      "  tunnel: false,\n",
      "  setHost: true,\n",
      "  originalCookieHeader: undefined,\n",
      "  _disableCookies: true,\n",
      "  _jar: undefined,\n",
      "  port: 80,\n",
      "  host: 'numbersapi.com',\n",
      "  path: '/42',\n",
      "  httpModule: \n",
      "   { _connectionListener: [Function: connectionListener],\n",
      "     METHODS: \n",
      "      [ 'ACL',\n",
      "        'BIND',\n",
      "        'CHECKOUT',\n",
      "        'CONNECT',\n",
      "        'COPY',\n",
      "        'DELETE',\n",
      "        'GET',\n",
      "        'HEAD',\n",
      "        'LINK',\n",
      "        'LOCK',\n",
      "        'M-SEARCH',\n",
      "        'MERGE',\n",
      "        'MKACTIVITY',\n",
      "        'MKCALENDAR',\n",
      "        'MKCOL',\n",
      "        'MOVE',\n",
      "        'NOTIFY',\n",
      "        'OPTIONS',\n",
      "        'PATCH',\n",
      "        'POST',\n",
      "        'PROPFIND',\n",
      "        'PROPPATCH',\n",
      "        'PURGE',\n",
      "        'PUT',\n",
      "        'REBIND',\n",
      "        'REPORT',\n",
      "        'SEARCH',\n",
      "        'SUBSCRIBE',\n",
      "        'TRACE',\n",
      "        'UNBIND',\n",
      "        'UNLINK',\n",
      "        'UNLOCK',\n",
      "        'UNSUBSCRIBE' ],\n",
      "     STATUS_CODES: \n",
      "      { '100': 'Continue',\n",
      "        '101': 'Switching Protocols',\n",
      "        '102': 'Processing',\n",
      "        '200': 'OK',\n",
      "        '201': 'Created',\n",
      "        '202': 'Accepted',\n",
      "        '203': 'Non-Authoritative Information',\n",
      "        '204': 'No Content',\n",
      "        '205': 'Reset Content',\n",
      "        '206': 'Partial Content',\n",
      "        '207': 'Multi-Status',\n",
      "        '208': 'Already Reported',\n",
      "        '226': 'IM Used',\n",
      "        '300': 'Multiple Choices',\n",
      "        '301': 'Moved Permanently',\n",
      "        '302': 'Found',\n",
      "        '303': 'See Other',\n",
      "        '304': 'Not Modified',\n",
      "        '305': 'Use Proxy',\n",
      "        '307': 'Temporary Redirect',\n",
      "        '308': 'Permanent Redirect',\n",
      "        '400': 'Bad Request',\n",
      "        '401': 'Unauthorized',\n",
      "        '402': 'Payment Required',\n",
      "        '403': 'Forbidden',\n",
      "        '404': 'Not Found',\n",
      "        '405': 'Method Not Allowed',\n",
      "        '406': 'Not Acceptable',\n",
      "        '407': 'Proxy Authentication Required',\n",
      "        '408': 'Request Timeout',\n",
      "        '409': 'Conflict',\n",
      "        '410': 'Gone',\n",
      "        '411': 'Length Required',\n",
      "        '412': 'Precondition Failed',\n",
      "        '413': 'Payload Too Large',\n",
      "        '414': 'URI Too Long',\n",
      "        '415': 'Unsupported Media Type',\n",
      "        '416': 'Range Not Satisfiable',\n",
      "        '417': 'Expectation Failed',\n",
      "        '418': 'I\\'m a teapot',\n",
      "        '421': 'Misdirected Request',\n",
      "        '422': 'Unprocessable Entity',\n",
      "        '423': 'Locked',\n",
      "        '424': 'Failed Dependency',\n",
      "        '425': 'Unordered Collection',\n",
      "        '426': 'Upgrade Required',\n",
      "        '428': 'Precondition Required',\n",
      "        '429': 'Too Many Requests',\n",
      "        '431': 'Request Header Fields Too Large',\n",
      "        '451': 'Unavailable For Legal Reasons',\n",
      "        '500': 'Internal Server Error',\n",
      "        '501': 'Not Implemented',\n",
      "        '502': 'Bad Gateway',\n",
      "        '503': 'Service Unavailable',\n",
      "        '504': 'Gateway Timeout',\n",
      "        '505': 'HTTP Version Not Supported',\n",
      "        '506': 'Variant Also Negotiates',\n",
      "        '507': 'Insufficient Storage',\n",
      "        '508': 'Loop Detected',\n",
      "        '509': 'Bandwidth Limit Exceeded',\n",
      "        '510': 'Not Extended',\n",
      "        '511': 'Network Authentication Required' },\n",
      "     Agent: { [Function: Agent] super_: [Object], defaultMaxSockets: Infinity },\n",
      "     ClientRequest: { [Function: ClientRequest] super_: [Object] },\n",
      "     globalAgent: \n",
      "      Agent {\n",
      "        domain: null,\n",
      "        _events: [Object],\n",
      "        _eventsCount: 1,\n",
      "        _maxListeners: undefined,\n",
      "        defaultPort: 80,\n",
      "        protocol: 'http:',\n",
      "        options: [Object],\n",
      "        requests: {},\n",
      "        sockets: {},\n",
      "        freeSockets: {},\n",
      "        keepAliveMsecs: 1000,\n",
      "        keepAlive: false,\n",
      "        maxSockets: Infinity,\n",
      "        maxFreeSockets: 256 },\n",
      "     IncomingMessage: { [Function: IncomingMessage] super_: [Object] },\n",
      "     OutgoingMessage: { [Function: OutgoingMessage] super_: [Object] },\n",
      "     Server: { [Function: Server] super_: [Object] },\n",
      "     ServerResponse: { [Function: ServerResponse] super_: [Object] },\n",
      "     createServer: [Function: createServer],\n",
      "     get: [Function: get],\n",
      "     request: [Function: request] },\n",
      "  agentClass: \n",
      "   { [Function: Agent]\n",
      "     super_: \n",
      "      { [Function: EventEmitter]\n",
      "        EventEmitter: [Circular],\n",
      "        usingDomains: false,\n",
      "        defaultMaxListeners: [Getter/Setter],\n",
      "        init: [Function],\n",
      "        listenerCount: [Function] },\n",
      "     defaultMaxSockets: Infinity },\n",
      "  agent: \n",
      "   Agent {\n",
      "     domain: null,\n",
      "     _events: { free: [Function] },\n",
      "     _eventsCount: 1,\n",
      "     _maxListeners: undefined,\n",
      "     defaultPort: 80,\n",
      "     protocol: 'http:',\n",
      "     options: { path: null },\n",
      "     requests: {},\n",
      "     sockets: {},\n",
      "     freeSockets: {},\n",
      "     keepAliveMsecs: 1000,\n",
      "     keepAlive: false,\n",
      "     maxSockets: Infinity,\n",
      "     maxFreeSockets: 256 } }\n"
     ]
    }
   ],
   "source": [
    "Promise.resolve(42)\n",
    "    .then((number) => [number, request(`http://numbersapi.com/${number}`)])\n",
    "    .then(([number, factoid]) => {\n",
    "        console.log('number: ', number);\n",
    "        console.log('factoid: ', factoid);\n",
    "    })\n",
    "    .catch(console.log)"
   ]
  },
  {
   "cell_type": "markdown",
   "metadata": {},
   "source": [
    "In this case, you'll have to use **Promise.all()**:"
   ]
  },
  {
   "cell_type": "code",
   "execution_count": 238,
   "metadata": {},
   "outputs": [
    {
     "name": "stdout",
     "output_type": "stream",
     "text": [
      "number:  42\n",
      "factoid:  42 is the number of kilometers in a marathon.\n"
     ]
    }
   ],
   "source": [
    "Promise.resolve(42)\n",
    "    .then((number) => Promise.all([number, request(`http://numbersapi.com/${number}`)]))\n",
    "    .then(([number, factoid]) => {\n",
    "        console.log('number: ', number);\n",
    "        console.log('factoid: ', factoid);\n",
    "    })\n",
    "    .catch(console.log)"
   ]
  },
  {
   "cell_type": "markdown",
   "metadata": {},
   "source": [
    "Simply put, when you pass an array to Promise.all(), all the values contained in the array will be passed on as they are, while the promises will be resolved and replaced with their result values."
   ]
  }
 ],
 "metadata": {
  "kernelspec": {
   "display_name": "Javascript (Node.js)",
   "language": "javascript",
   "name": "javascript"
  },
  "language_info": {
   "file_extension": ".js",
   "mimetype": "application/javascript",
   "name": "javascript",
   "version": "8.9.0"
  }
 },
 "nbformat": 4,
 "nbformat_minor": 2
}
